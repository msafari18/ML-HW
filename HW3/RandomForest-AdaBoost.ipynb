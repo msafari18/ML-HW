{
 "cells": [
  {
   "cell_type": "markdown",
   "metadata": {
    "colab_type": "text",
    "id": "efrE1Lc0Otrq"
   },
   "source": [
    "# **Machine Learning in Bioinformatics**"
   ]
  },
  {
   "cell_type": "markdown",
   "metadata": {
    "colab_type": "text",
    "id": "GtzvENmYOtxi"
   },
   "source": [
    "**Homework 3:**<br/>\n",
    "!!! If you don't fill these fields, your homework does not count !!!<br/>\n",
    "first name and last name : Monireh Safari\n",
    "student number : 98201803"
   ]
  },
  {
   "cell_type": "markdown",
   "metadata": {
    "colab_type": "text",
    "id": "KG3vb72VOt4G"
   },
   "source": [
    "You can run cells by hitting `Shift` + `Enter` or `ctrl` + `Enter`.<br/>\n",
    "We highly recommend you to read each line of code carefully and try to \n",
    "understand what it exactly does.<br/>\n",
    "Just alter the parts that is between green comments and specified for you. <br/>\n",
    "Please do not change other parts."
   ]
  },
  {
   "cell_type": "code",
   "execution_count": 39,
   "metadata": {
    "colab": {},
    "colab_type": "code",
    "id": "v0dotHjRO5x_"
   },
   "outputs": [],
   "source": [
    "# importing libraries\n",
    "import pandas as pd\n",
    "import numpy as np\n",
    "import matplotlib.pyplot as plt\n",
    "from sklearn.model_selection import train_test_split\n",
    "import numpy as np\n",
    "from sklearn.datasets import load_breast_cancer "
   ]
  },
  {
   "cell_type": "markdown",
   "metadata": {
    "colab_type": "text",
    "id": "_5C6lgUtO-bg"
   },
   "source": [
    "\n",
    "### about the Data:<br/>\n",
    "The purpose of this project is to classify tumors into malignant or benign. The following dataset is constructed based on images of tumors. Features are computed from a digitized image of a fine needle aspirate (FNA) of a breast mass.\n",
    "For more details about the features of this dataset you can visit this link:\n",
    "https://scikit-learn.org/stable/datasets/index.html#breast-cancer-dataset<br/>\n",
    "This dataset contains 30 features and 1 label called target.\n",
    "The original dataset labels are 0 and 1 and in the following code boxes we change it to -1 and 1."
   ]
  },
  {
   "cell_type": "code",
   "execution_count": 2,
   "metadata": {
    "colab": {},
    "colab_type": "code",
    "id": "-7_g8ApcO7tm"
   },
   "outputs": [
    {
     "data": {
      "text/html": [
       "<div>\n",
       "<style scoped>\n",
       "    .dataframe tbody tr th:only-of-type {\n",
       "        vertical-align: middle;\n",
       "    }\n",
       "\n",
       "    .dataframe tbody tr th {\n",
       "        vertical-align: top;\n",
       "    }\n",
       "\n",
       "    .dataframe thead th {\n",
       "        text-align: right;\n",
       "    }\n",
       "</style>\n",
       "<table border=\"1\" class=\"dataframe\">\n",
       "  <thead>\n",
       "    <tr style=\"text-align: right;\">\n",
       "      <th></th>\n",
       "      <th>mean radius</th>\n",
       "      <th>mean texture</th>\n",
       "      <th>mean perimeter</th>\n",
       "      <th>mean area</th>\n",
       "      <th>mean smoothness</th>\n",
       "      <th>mean compactness</th>\n",
       "      <th>mean concavity</th>\n",
       "      <th>mean concave points</th>\n",
       "      <th>mean symmetry</th>\n",
       "      <th>mean fractal dimension</th>\n",
       "      <th>...</th>\n",
       "      <th>worst texture</th>\n",
       "      <th>worst perimeter</th>\n",
       "      <th>worst area</th>\n",
       "      <th>worst smoothness</th>\n",
       "      <th>worst compactness</th>\n",
       "      <th>worst concavity</th>\n",
       "      <th>worst concave points</th>\n",
       "      <th>worst symmetry</th>\n",
       "      <th>worst fractal dimension</th>\n",
       "      <th>target</th>\n",
       "    </tr>\n",
       "  </thead>\n",
       "  <tbody>\n",
       "    <tr>\n",
       "      <th>0</th>\n",
       "      <td>17.99</td>\n",
       "      <td>10.38</td>\n",
       "      <td>122.80</td>\n",
       "      <td>1001.0</td>\n",
       "      <td>0.11840</td>\n",
       "      <td>0.27760</td>\n",
       "      <td>0.3001</td>\n",
       "      <td>0.14710</td>\n",
       "      <td>0.2419</td>\n",
       "      <td>0.07871</td>\n",
       "      <td>...</td>\n",
       "      <td>17.33</td>\n",
       "      <td>184.60</td>\n",
       "      <td>2019.0</td>\n",
       "      <td>0.1622</td>\n",
       "      <td>0.6656</td>\n",
       "      <td>0.7119</td>\n",
       "      <td>0.2654</td>\n",
       "      <td>0.4601</td>\n",
       "      <td>0.11890</td>\n",
       "      <td>0.0</td>\n",
       "    </tr>\n",
       "    <tr>\n",
       "      <th>1</th>\n",
       "      <td>20.57</td>\n",
       "      <td>17.77</td>\n",
       "      <td>132.90</td>\n",
       "      <td>1326.0</td>\n",
       "      <td>0.08474</td>\n",
       "      <td>0.07864</td>\n",
       "      <td>0.0869</td>\n",
       "      <td>0.07017</td>\n",
       "      <td>0.1812</td>\n",
       "      <td>0.05667</td>\n",
       "      <td>...</td>\n",
       "      <td>23.41</td>\n",
       "      <td>158.80</td>\n",
       "      <td>1956.0</td>\n",
       "      <td>0.1238</td>\n",
       "      <td>0.1866</td>\n",
       "      <td>0.2416</td>\n",
       "      <td>0.1860</td>\n",
       "      <td>0.2750</td>\n",
       "      <td>0.08902</td>\n",
       "      <td>0.0</td>\n",
       "    </tr>\n",
       "    <tr>\n",
       "      <th>2</th>\n",
       "      <td>19.69</td>\n",
       "      <td>21.25</td>\n",
       "      <td>130.00</td>\n",
       "      <td>1203.0</td>\n",
       "      <td>0.10960</td>\n",
       "      <td>0.15990</td>\n",
       "      <td>0.1974</td>\n",
       "      <td>0.12790</td>\n",
       "      <td>0.2069</td>\n",
       "      <td>0.05999</td>\n",
       "      <td>...</td>\n",
       "      <td>25.53</td>\n",
       "      <td>152.50</td>\n",
       "      <td>1709.0</td>\n",
       "      <td>0.1444</td>\n",
       "      <td>0.4245</td>\n",
       "      <td>0.4504</td>\n",
       "      <td>0.2430</td>\n",
       "      <td>0.3613</td>\n",
       "      <td>0.08758</td>\n",
       "      <td>0.0</td>\n",
       "    </tr>\n",
       "    <tr>\n",
       "      <th>3</th>\n",
       "      <td>11.42</td>\n",
       "      <td>20.38</td>\n",
       "      <td>77.58</td>\n",
       "      <td>386.1</td>\n",
       "      <td>0.14250</td>\n",
       "      <td>0.28390</td>\n",
       "      <td>0.2414</td>\n",
       "      <td>0.10520</td>\n",
       "      <td>0.2597</td>\n",
       "      <td>0.09744</td>\n",
       "      <td>...</td>\n",
       "      <td>26.50</td>\n",
       "      <td>98.87</td>\n",
       "      <td>567.7</td>\n",
       "      <td>0.2098</td>\n",
       "      <td>0.8663</td>\n",
       "      <td>0.6869</td>\n",
       "      <td>0.2575</td>\n",
       "      <td>0.6638</td>\n",
       "      <td>0.17300</td>\n",
       "      <td>0.0</td>\n",
       "    </tr>\n",
       "    <tr>\n",
       "      <th>4</th>\n",
       "      <td>20.29</td>\n",
       "      <td>14.34</td>\n",
       "      <td>135.10</td>\n",
       "      <td>1297.0</td>\n",
       "      <td>0.10030</td>\n",
       "      <td>0.13280</td>\n",
       "      <td>0.1980</td>\n",
       "      <td>0.10430</td>\n",
       "      <td>0.1809</td>\n",
       "      <td>0.05883</td>\n",
       "      <td>...</td>\n",
       "      <td>16.67</td>\n",
       "      <td>152.20</td>\n",
       "      <td>1575.0</td>\n",
       "      <td>0.1374</td>\n",
       "      <td>0.2050</td>\n",
       "      <td>0.4000</td>\n",
       "      <td>0.1625</td>\n",
       "      <td>0.2364</td>\n",
       "      <td>0.07678</td>\n",
       "      <td>0.0</td>\n",
       "    </tr>\n",
       "  </tbody>\n",
       "</table>\n",
       "<p>5 rows × 31 columns</p>\n",
       "</div>"
      ],
      "text/plain": [
       "   mean radius  mean texture  mean perimeter  mean area  mean smoothness  \\\n",
       "0        17.99         10.38          122.80     1001.0          0.11840   \n",
       "1        20.57         17.77          132.90     1326.0          0.08474   \n",
       "2        19.69         21.25          130.00     1203.0          0.10960   \n",
       "3        11.42         20.38           77.58      386.1          0.14250   \n",
       "4        20.29         14.34          135.10     1297.0          0.10030   \n",
       "\n",
       "   mean compactness  mean concavity  mean concave points  mean symmetry  \\\n",
       "0           0.27760          0.3001              0.14710         0.2419   \n",
       "1           0.07864          0.0869              0.07017         0.1812   \n",
       "2           0.15990          0.1974              0.12790         0.2069   \n",
       "3           0.28390          0.2414              0.10520         0.2597   \n",
       "4           0.13280          0.1980              0.10430         0.1809   \n",
       "\n",
       "   mean fractal dimension  ...  worst texture  worst perimeter  worst area  \\\n",
       "0                 0.07871  ...          17.33           184.60      2019.0   \n",
       "1                 0.05667  ...          23.41           158.80      1956.0   \n",
       "2                 0.05999  ...          25.53           152.50      1709.0   \n",
       "3                 0.09744  ...          26.50            98.87       567.7   \n",
       "4                 0.05883  ...          16.67           152.20      1575.0   \n",
       "\n",
       "   worst smoothness  worst compactness  worst concavity  worst concave points  \\\n",
       "0            0.1622             0.6656           0.7119                0.2654   \n",
       "1            0.1238             0.1866           0.2416                0.1860   \n",
       "2            0.1444             0.4245           0.4504                0.2430   \n",
       "3            0.2098             0.8663           0.6869                0.2575   \n",
       "4            0.1374             0.2050           0.4000                0.1625   \n",
       "\n",
       "   worst symmetry  worst fractal dimension  target  \n",
       "0          0.4601                  0.11890     0.0  \n",
       "1          0.2750                  0.08902     0.0  \n",
       "2          0.3613                  0.08758     0.0  \n",
       "3          0.6638                  0.17300     0.0  \n",
       "4          0.2364                  0.07678     0.0  \n",
       "\n",
       "[5 rows x 31 columns]"
      ]
     },
     "execution_count": 2,
     "metadata": {},
     "output_type": "execute_result"
    }
   ],
   "source": [
    "cancer = load_breast_cancer()  ## change if the data set changed\n",
    "df = pd.DataFrame(np.c_[cancer[\"data\"], cancer[\"target\"]], columns = np.append(cancer[\"feature_names\"],[\"target\"]))\n",
    "features = ['mean radius', 'mean texture', 'mean perimeter', 'mean area', 'mean smoothness', 'mean compactness', 'mean concavity', 'mean concave points', 'mean symmetry', 'mean fractal dimension', 'radius error', 'texture error', 'perimeter error', 'area error', 'smoothness error', 'compactness error', 'concavity error', 'concave points error', 'symmetry error', 'fractal dimension error', 'worst radius', 'worst texture', 'worst perimeter', 'worst area', 'worst smoothness', 'worst compactness', 'worst concavity', 'worst concave points', 'worst symmetry', 'worst fractal dimension']\n",
    "df.head()"
   ]
  },
  {
   "cell_type": "code",
   "execution_count": 41,
   "metadata": {
    "colab": {},
    "colab_type": "code",
    "id": "jmmK95OVPDyg"
   },
   "outputs": [
    {
     "name": "stdout",
     "output_type": "stream",
     "text": [
      "70.12302284710017 %\n",
      "70.12302284710017 %\n",
      "20.035149384885763 %\n",
      "20.035149384885763 %\n",
      "9.84182776801406 %\n",
      "9.84182776801406 %\n"
     ]
    }
   ],
   "source": [
    "cancer.target = np.where(cancer.target==0, -1, cancer.target)\n",
    "X_train ,X_test ,X_val ,y_train ,y_test ,y_val = None ,None ,None ,None ,None ,None\n",
    "################################################################################\n",
    "# TODO:                                                                        #\n",
    "# 1- Normalize tha data.                                                       #\n",
    "# 2- using train_test_split package, split your data into 3 numpy array        #\n",
    "# called X_train, X_test, and X_val and also split the corresponding labels as #\n",
    "# y_train, y_test, and y_val. After spliting, the ratio of your data should be # \n",
    "# approximately like this:                                                     #\n",
    "#  Train : 70%     test : 20%       validation : 10%                           #\n",
    "################################################################################\n",
    "\n",
    "\n",
    "\n",
    "# min-max no\"target\",axis = 1)\n",
    "X = (X - X.min()) / (X.max() - X.min())\n",
    "y = cancer.target\n",
    "X_train, X_test, y_train, y_test = train_test_split(X, y, test_size=0.2, random_state=1)\n",
    "X_train, X_val, y_train, y_val = train_test_split(X_train, y_train, test_size=0.123, random_state=1)\n",
    "\n",
    "\n",
    "################################################################################\n",
    "#                                 END OF YOUR CODE                             #\n",
    "################################################################################\n",
    "print((X_train.shape[0]/cancer.data.shape[0]) * 100, \"%\")\n",
    "print((y_train.shape[0]/cancer.data.shape[0]) * 100, \"%\")\n",
    "print((X_test.shape[0]/cancer.data.shape[0]) * 100, \"%\")\n",
    "print((y_test.shape[0]/cancer.data.shape[0]) * 100, \"%\")\n",
    "print((X_val.shape[0]/cancer.data.shape[0]) * 100, \"%\")\n",
    "print((y_val.shape[0]/cancer.data.shape[0]) * 100, \"%\")"
   ]
  },
  {
   "cell_type": "markdown",
   "metadata": {
    "colab_type": "text",
    "id": "EZ3-Fm4uPIdf"
   },
   "source": [
    "# Ensemble Methods\n",
    "\n",
    "## Problem 1. Bagging (15 points)\n"
   ]
  },
  {
   "cell_type": "code",
   "execution_count": 42,
   "metadata": {
    "colab": {},
    "colab_type": "code",
    "id": "ZzSuFIANPPRh"
   },
   "outputs": [
    {
     "name": "stdout",
     "output_type": "stream",
     "text": [
      "1 96.42857142857143 25\n"
     ]
    },
    {
     "data": {
      "image/png": "[encoded data removed]",
      "text/plain": [
       "<Figure size 432x288 with 1 Axes>"
      ]
     },
     "metadata": {
      "needs_background": "light"
     },
     "output_type": "display_data"
    },
    {
     "name": "stdout",
     "output_type": "stream",
     "text": [
      "test accuracy :  95.614 % \n"
     ]
    }
   ],
   "source": [
    "from sklearn import model_selection \n",
    "from sklearn.ensemble import BaggingClassifier \n",
    "from sklearn.tree import DecisionTreeClassifier\n",
    "import sklearn\n",
    "\n",
    "\n",
    "################################################################################\n",
    "# TODO : initialize the base classifier. You can choose one of the classifiers #\n",
    "# you have learned in this course.(SVM/Decision tree)                          #\n",
    "# IMPORTANT: if you are using SVM as base classifier don't forget to add column#\n",
    "# of '1' s for bias and be careful to use the right datset in next parts.      #\n",
    "################################################################################\n",
    "base_cls = DecisionTreeClassifier() \n",
    "  \n",
    "##################################################################################\n",
    "# TODO: Number of classifiers is a hyperparameter. Choose it by using validation #\n",
    "# data to have the best accuracy                                                 #\n",
    "# For different number of classifiers, train the model with training data and    #\n",
    "# compute accuracy for validation data. Plot accuracy-number of classifiers plot.#\n",
    "##################################################################################\n",
    "num_cls_list = [10,25,30,35,40,45,50,55,60,65,70,75,80,85,90,95,100]\n",
    "seed = 10\n",
    "accuracy = []\n",
    "for num_cls in num_cls_list :\n",
    "    model = BaggingClassifier(base_estimator = base_cls, \n",
    "                              n_estimators = num_cls, \n",
    "                              random_state = seed)\n",
    "    model.fit(X_train,y_train)\n",
    "    y_pred = model.predict(X_val)\n",
    "    acc = [1 if y_pred[i] == y_val[i] else 0 for i in range(len(y_val))]\n",
    "    accuracy.append(sum(acc)/len(y_val) * 100)\n",
    "\n",
    "best_num = np.argmax(np.asarray(accuracy))\n",
    "print(best_num,accuracy[best_num],num_cls_list[best_num])\n",
    "\n",
    "x = num_cls_list\n",
    "y = accuracy\n",
    "plt.plot(x, y)\n",
    "plt.xlabel('cls numbers')\n",
    "plt.ylabel('acc')\n",
    "plt.title('accuracy number of classifiers plot')\n",
    "plt.show()\n",
    "\n",
    "################################################################################\n",
    "# compute and report the accuracy for test data.                               #\n",
    "################################################################################\n",
    "model = BaggingClassifier(base_estimator = base_cls, \n",
    "                              n_estimators = num_cls_list[best_num], \n",
    "                              random_state = seed)\n",
    "model.fit(X_train,y_train)\n",
    "\n",
    "correct = 0\n",
    "pred_test = model.predict(X_test)\n",
    "for i,j in zip(y_test, pred_test) :\n",
    "    if i == j :\n",
    "        correct+=1\n",
    "print(\"test accuracy : \", round(correct*100/len(y_test),3) ,\"% \")\n"
   ]
  },
  {
   "cell_type": "markdown",
   "metadata": {
    "colab_type": "text",
    "id": "ELyA0acXgK2w"
   },
   "source": [
    "## Problem 2. Random Forest(25 points)</br>\n",
    "In this part, you should write your own code to classify the data, using random forest from sklearn package in python."
   ]
  },
  {
   "cell_type": "code",
   "execution_count": 43,
   "metadata": {
    "colab": {},
    "colab_type": "code",
    "id": "JE4eKUybgQUb",
    "scrolled": true
   },
   "outputs": [
    {
     "name": "stdout",
     "output_type": "stream",
     "text": [
      "best num of tree :  10 \n",
      "best depth :  2 \n",
      "acc :  0.96\n",
      "train acc :  96.2406015037594 \n",
      "confusion matrix train :\n",
      " [[141  11]\n",
      " [  4 243]] \n",
      "classification report train:\n",
      "               precision    recall  f1-score   support\n",
      "\n",
      "          -1       0.97      0.93      0.95       152\n",
      "           1       0.96      0.98      0.97       247\n",
      "\n",
      "    accuracy                           0.96       399\n",
      "   macro avg       0.96      0.96      0.96       399\n",
      "weighted avg       0.96      0.96      0.96       399\n",
      "\n",
      "test acc :  94.73684210526315 \n",
      "confusion matrix test:\n",
      " [[37  5]\n",
      " [ 1 71]] \n",
      "classification report test:\n",
      "               precision    recall  f1-score   support\n",
      "\n",
      "          -1       0.97      0.88      0.93        42\n",
      "           1       0.93      0.99      0.96        72\n",
      "\n",
      "    accuracy                           0.95       114\n",
      "   macro avg       0.95      0.93      0.94       114\n",
      "weighted avg       0.95      0.95      0.95       114\n",
      "\n"
     ]
    }
   ],
   "source": [
    "from sklearn.ensemble import RandomForestClassifier\n",
    "from sklearn.metrics import classification_report, confusion_matrix, accuracy_score\n",
    "import numpy as np\n",
    "#################################################################################\n",
    "# TODO:use the validation data to determine hyperparameters(number and depth of #\n",
    "# trees) for the best accuracy                                                  # \n",
    "#################################################################################\n",
    "depth = [1,2,3,4,5,6,7,8,9,10,12,15,20,30,40]\n",
    "trees_number = [5,10,15,20,25,30,40]\n",
    "best_acc = []\n",
    "kfold = model_selection.KFold(n_splits=5)\n",
    "\n",
    "for num in trees_number : \n",
    "    acc = []\n",
    "    for d in depth  :\n",
    "        my_random_forest = RandomForestClassifier(n_estimators = num ,max_depth=d, random_state= 8)\n",
    "        my_random_forest.fit(X_train, y_train)\n",
    "        results = model_selection.cross_val_score(my_random_forest, X_val, y_val, cv = kfold)\n",
    "        acc.append(round(results.mean(),2))\n",
    "    npacc = np.asarray(acc)\n",
    "    best_depth = (np.argmax(npacc),np.max(npacc))\n",
    "    best_acc.append(best_depth)\n",
    "\n",
    "bacc = [i[1] for i in best_acc]\n",
    "npbest_acc = np.asarray(bacc)\n",
    "best_num_tree = trees_number[np.argmax(npbest_acc)]\n",
    "best_depth = depth[best_acc[np.argmax(npbest_acc)][0]]\n",
    "print(\"best num of tree : \", best_num_tree, \"\\nbest depth : \", best_depth, \"\\nacc : \",np.max(npbest_acc))\n",
    "\n",
    "#######################################################################################\n",
    "#TODO:report accuracy, presition,recall and confusion matrix for train and test data  #\n",
    "#######################################################################################\n",
    "my_random_forest = RandomForestClassifier(n_estimators = 10 ,max_depth=2, random_state= 8)\n",
    "my_random_forest.fit(X_train, y_train)\n",
    "pred_train = my_random_forest.predict(X_train)\n",
    "pred_test = my_random_forest.predict(X_test)\n",
    "\n",
    "#train\n",
    "acc_train = accuracy_score(y_train,pred_train) *100\n",
    "confusion_matrix_train = confusion_matrix(y_train,pred_train)\n",
    "classification_report_trian = classification_report(y_train,pred_train)\n",
    "print(\"train acc : \",acc_train,\"\\nconfusion matrix train :\\n\", confusion_matrix_train,\"\\nclassification report train:\\n\",classification_report_trian)\n",
    "#test\n",
    "acc_test = accuracy_score(y_test,pred_test) * 100\n",
    "confusion_matrix_test = confusion_matrix(y_test,pred_test)\n",
    "classification_report_test = classification_report(y_test,pred_test)\n",
    "print(\"test acc : \",acc_test,\"\\nconfusion matrix test:\\n\", confusion_matrix_test,\"\\nclassification report test:\\n\",classification_report_test)\n"
   ]
  },
  {
   "cell_type": "markdown",
   "metadata": {
    "colab_type": "text",
    "id": "pSr7G0fdgmyf"
   },
   "source": [
    "Question:\n",
    "Explain how you did choose the hyperparameters.</br>\n",
    "\n",
    "به ازای تعداد درخت های مختلف([5,10,15,20,25,30,40]) در رندوم فارست، عمق های مختلف([1,2,3,4,5,6,7,8,9,10,12,15,20,30,40]) بررسی شدند و برای هر تعداد درخت بهترین عمق (بر اساس دقت مدل) ذخیره شد. در ادامه تعداد درختی که بهترین دقت را داشت روی داده های ولیدیشن به عنوان بهترین تعاداد درخت و بهترین عمق ان به عنوان بهترین عمق گزارش شد. "
   ]
  },
  {
   "cell_type": "markdown",
   "metadata": {
    "colab_type": "text",
    "id": "etxNZ36Ugnp7"
   },
   "source": []
  },
  {
   "cell_type": "markdown",
   "metadata": {
    "colab_type": "text",
    "id": "fxpbM42MPg6m"
   },
   "source": [
    "## Problem 3. Boosting : AdaBoost (35 points)"
   ]
  },
  {
   "cell_type": "markdown",
   "metadata": {
    "colab_type": "text",
    "id": "rUodQdBvPrKQ"
   },
   "source": [
    "In this part you should implement adaptive boosting algorithm. </br>\n",
    "<picture>\n",
    "  <img src=\"http://uupload.ir/files/b919_adaboost.png\" alt=\"Adaboost\" width=\"600\" height=\"300\">\n",
    "</picture>\n",
    "\n"
   ]
  },
  {
   "cell_type": "code",
   "execution_count": 10,
   "metadata": {
    "colab": {},
    "colab_type": "code",
    "id": "r9TL5FGqRIoL"
   },
   "outputs": [
    {
     "name": "stdout",
     "output_type": "stream",
     "text": [
      "The training data accuracy is: 89.8901098901099 %\n",
      "The test data accuracy is: 85.9288537549407 %\n"
     ]
    }
   ],
   "source": [
    "from sklearn.tree import DecisionTreeClassifier\n",
    "from sklearn.model_selection import cross_validate\n",
    "X_train ,X_test ,y_train ,y_test = None ,None ,None ,None\n",
    "###################################################################\n",
    "# TODO: use 80% of normalized data as train and 20% as test data. #\n",
    "###################################################################\n",
    "\n",
    "cancer = load_breast_cancer()  ## change if the data set changed\n",
    "df = pd.DataFrame(np.c_[cancer[\"data\"], cancer[\"target\"]], columns = np.append(cancer[\"feature_names\"],[\"target\"]))\n",
    "features = ['mean radius', 'mean texture', 'mean perimeter', 'mean area', 'mean smoothness', 'mean compactness', 'mean concavity', 'mean concave points', 'mean symmetry', 'mean fractal dimension', 'radius error', 'texture error', 'perimeter error', 'area error', 'smoothness error', 'compactness error', 'concavity error', 'concave points error', 'symmetry error', 'fractal dimension error', 'worst radius', 'worst texture', 'worst perimeter', 'worst area', 'worst smoothness', 'worst compactness', 'worst concavity', 'worst concave points', 'worst symmetry', 'worst fractal dimension']\n",
    "cancer.target = np.where(cancer.target==0, -1, cancer.target)\n",
    "\n",
    "X_data = df.drop(\"target\",axis = 1)\n",
    "X_data = (X_data - X_data.min()) / (X_data.max() - X_data.min())\n",
    "y = cancer.target\n",
    "X_train, X_test, y_train, y_test = train_test_split(X_data, y, test_size=0.2, random_state=1)\n",
    "\n",
    "######################################################################\n",
    "#TODO : define a weak decision tree.                                 #\n",
    "# initialize these parameters: criterion=\"entropy\" and max_depth = 1 #\n",
    "######################################################################\n",
    "Tree_model = DecisionTreeClassifier(criterion = \"entropy\", max_depth = 1)\n",
    "#############################################################################################\n",
    "#TODO : report accuracy of your weak model on train and test data by using cross validation #\n",
    "#############################################################################################\n",
    "train_accuracy = np.mean(cross_validate(Tree_model ,X_train, y_train)['test_score']) \n",
    "print('The training data accuracy is:' ,train_accuracy * 100 , '%')\n",
    "\n",
    "test_accuracy = np.mean(cross_validate(Tree_model ,X_test, y_test)['test_score']) \n",
    "print('The test data accuracy is:' ,test_accuracy * 100 , '%')"
   ]
  },
  {
   "cell_type": "code",
   "execution_count": 35,
   "metadata": {
    "colab": {},
    "colab_type": "code",
    "id": "elsmjgbNRSdH"
   },
   "outputs": [],
   "source": [
    "import math\n",
    "class AdaBoost:\n",
    "    \n",
    "    def __init__(self,train_data_X,train_data_y,tree_num,test_data_X,test_data_y):\n",
    "        self.train_data_X = train_data_X\n",
    "        self.train_data_y = train_data_y\n",
    "        self.tree_num = tree_num\n",
    "        self.test_data_X = test_data_X\n",
    "        self.test_data_y = test_data_y\n",
    "        self.alphas = None\n",
    "        self.models = None\n",
    "        self.accuracy = []\n",
    "        self.accuracy_test = []\n",
    "        self.predictions = None\n",
    "        \n",
    "    def fit(self,tree_num):\n",
    "        Evaluation = pd.DataFrame(self.train_data_y.copy())\n",
    "        Evaluation.columns = ['target']\n",
    "        ## TODO:Set the initial weights w = 1/N\n",
    "        Evaluation['weights'] = 1/len(Evaluation)\n",
    "        alphas = [] #list of alphas \n",
    "        models = [] # list of trained models\n",
    "        for t in range(tree_num):\n",
    "\n",
    "            ## TODO: create a weak decisiontree classifier\n",
    "            Tree_model = DecisionTreeClassifier(criterion = \"entropy\", max_depth = 1)\n",
    "            ## TODO: fit the model with train data. set the sample_weight parameter to the 'weights' columns in Evaluation dataframe\n",
    "            model = Tree_model.fit(self.train_data_X,self.train_data_y, sample_weight = Evaluation['weights'])\n",
    "            \n",
    "            models.append(model)\n",
    "            predictions = model.predict(self.train_data_X)\n",
    "            score = model.score(self.train_data_X,self.train_data_y)\n",
    "\n",
    "            ## Add this columns to the Evaluation DataFrame\n",
    "            Evaluation['predictions'] = predictions\n",
    "            ## TODO: In each row if the prediction and the target are equal,this column must be '1' and '0' O.W. \n",
    "            Evaluation['evaluation'] = [1 if Evaluation.at[i,'predictions'] == Evaluation.at[i,'target'] else 0 for i in range(len(Evaluation))]\n",
    "            ## TODO: In each row if the tha data is missclassified, this column must be 1.\n",
    "            Evaluation['misclassified'] = [1 if Evaluation.at[i,'predictions'] != Evaluation.at[i,'target'] else 0 for i in range(len(Evaluation))]\n",
    "            ## TODO: Calculate the misclassification rate and accuracy and then use them to calculate error\n",
    "            accuracy = sum([i * Evaluation.at[i,'weights'] for i in Evaluation['evaluation']])\n",
    "            misclassification = sum([i * Evaluation.at[i,'weights'] for i in Evaluation['misclassified']])\n",
    "            err = sum([i * Evaluation.at[i,'weights'] for i in Evaluation['misclassified']])\n",
    "#             print(\"acc : \" , accuracy, \"mis : \", misclassification, \"err : \", err)\n",
    "            ## TODO: Calculate the alpha values from the adaboost algorithm\n",
    "            alpha = math.log((1 - err)/err,2)/2\n",
    "            alphas.append(alpha)\n",
    "#             print(\"alpha : \", alpha)\n",
    "            ## TODO: update the weights\n",
    "            weights = [Evaluation.at[i, 'weights'] * math.exp(-alpha * Evaluation.at[i,'target'] * Evaluation.at[i,'predictions']) for i in range(len(Evaluation))]\n",
    "            w_sum = sum(weights)\n",
    "            Evaluation['weights'] = [(w/w_sum) for w in weights]\n",
    "            \n",
    "        self.alphas = alphas\n",
    "        self.models = models\n",
    "        \n",
    "        \n",
    "    def predict(self,X_data,y_data,mode):\n",
    "        \n",
    "        accuracy = []\n",
    "        predictions = []\n",
    "        #####################################################################################\n",
    "        #TODO:                                                                              #\n",
    "        # 1- predict target for test data and append each prediction to the predictions list#\n",
    "        # 2- Create a list of accuracies which can be used to plot the accuracy against the #\n",
    "        # number of base learners used for the model                                        #\n",
    "        #####################################################################################\n",
    "        for alpha,model in zip(self.alphas,self.models):\n",
    "            prediction = alpha * model.predict(X_data)\n",
    "            predictions.append(prediction)\n",
    "            \n",
    "            \n",
    "        self.predictions = np.sign(np.sum(np.array(predictions),axis=0))\n",
    "        acc = [1 if self.predictions[i] == y_data[i] else 0 for i in range(len(y_data))]\n",
    "        if mode == \"train\" :\n",
    "            self.accuracy.append(sum(acc)/len(acc))\n",
    "        elif mode == \"test\" :\n",
    "            self.accuracy_test.append(sum(acc)/len(acc))\n"
   ]
  },
  {
   "cell_type": "code",
   "execution_count": 38,
   "metadata": {
    "colab": {},
    "colab_type": "code",
    "id": "-by9WfOXRVQG"
   },
   "outputs": [
    {
     "name": "stdout",
     "output_type": "stream",
     "text": [
      "100 accuracy in : 31\n",
      "With a number of  100 base models we receive an accuracy of  100.0 %\n",
      "With a number of  100 base models we receive an accuracy of  96.49122807017544 %\n"
     ]
    },
    {
     "data": {
      "image/png": "[encoded data removed]",
      "text/plain": [
       "<Figure size 720x720 with 1 Axes>"
      ]
     },
     "metadata": {
      "needs_background": "light"
     },
     "output_type": "display_data"
    },
    {
     "data": {
      "image/png": "[encoded data removed]",
      "text/plain": [
       "<Figure size 720x720 with 1 Axes>"
      ]
     },
     "metadata": {
      "needs_background": "light"
     },
     "output_type": "display_data"
    }
   ],
   "source": [
    "# Accuracy - number of base learners plot for training data\n",
    "\n",
    "number_of_base_learners = 100\n",
    "\n",
    "fig = plt.figure(figsize=(10,10))\n",
    "fig2 = plt.figure(figsize=(10,10))\n",
    "ax0 = fig.add_subplot(111)\n",
    "ax1 = fig2.add_subplot(111)\n",
    "\n",
    "model = AdaBoost(X_train,y_train,number_of_base_learners,X_train,y_train)\n",
    "for i in range(1,number_of_base_learners):\n",
    "    model.fit(i)\n",
    "    model.predict(X_train, y_train,\"train\")\n",
    "    model.predict(X_test, y_test,\"test\")\n",
    "    \n",
    "print(\"100 accuracy in :\",model.accuracy.index(1))\n",
    "\n",
    "ax0.plot(range(len(model.accuracy)),model.accuracy,'-b')\n",
    "ax0.set_xlabel('# models used for Boosting ')\n",
    "ax0.set_ylabel('TRAIN accuracy')\n",
    "print('With a number of ',number_of_base_learners,'base models we receive an accuracy of ',model.accuracy[-1] * 100,'%')    \n",
    "\n",
    "\n",
    "ax1.plot(range(len(model.accuracy_test)),model.accuracy_test,'-b')\n",
    "ax1.set_xlabel('# models used for Boosting ')\n",
    "ax1.set_ylabel('test accuracy')\n",
    "print('With a number of ',number_of_base_learners,'base models we receive an accuracy of ',max(model.accuracy_test) * 100,'%')    \n",
    "\n",
    "plt.show()   \n",
    "#################################################################### \n",
    "# TODO: Plot Accuracy - number of base learners plot for test data #\n",
    "####################################################################\n"
   ]
  },
  {
   "cell_type": "code",
   "execution_count": null,
   "metadata": {
    "colab": {},
    "colab_type": "code",
    "id": "aHIp-4p9Ravu"
   },
   "outputs": [],
   "source": []
  },
  {
   "cell_type": "markdown",
   "metadata": {
    "colab_type": "text",
    "id": "2olecphWRi4L"
   },
   "source": [
    "# Feature Selction </br>\n",
    "\n",
    "## problem4. Filtering : correlation coefficient (25 points)\n"
   ]
  },
  {
   "cell_type": "code",
   "execution_count": 46,
   "metadata": {
    "colab": {},
    "colab_type": "code",
    "id": "oe0ynxveRmXS"
   },
   "outputs": [
    {
     "name": "stdout",
     "output_type": "stream",
     "text": [
      "perceptron test accuracy :  96.491 % \n",
      " \n",
      "#2 feature selections :  ['mean radius', 'mean perimeter', 'mean area', 'mean compactness', 'mean concavity', 'mean concave points', 'radius error', 'perimeter error', 'area error', 'worst radius', 'worst perimeter', 'worst area', 'worst compactness', 'worst concavity', 'worst concave points'] \n",
      "\n",
      "#3 feature selections :  ['worst compactness', 'area error', 'worst concavity'] \n",
      "\n",
      "perceptron features :  ['mean fractal dimension', 'fractal dimension error', 'compactness error', 'mean symmetry', 'concavity error', 'mean compactness', 'texture error', 'mean smoothness', 'symmetry error', 'smoothness error', 'concave points error', 'worst fractal dimension', 'mean radius', 'mean perimeter', 'worst compactness', 'mean area', 'area error', 'perimeter error', 'radius error', 'worst concavity', 'mean texture', 'worst symmetry', 'mean concavity', 'worst area', 'worst smoothness', 'worst perimeter', 'worst radius', 'mean concave points', 'worst texture', 'worst concave points'] \n",
      "\n",
      "\n",
      "#2 feature selections features rank in perceptron weights :  [13, 14, 16, 6, 23, 28, 19, 18, 17, 27, 26, 24, 15, 20, 30] \n",
      "\n",
      "\n",
      "#3 feature selections features rank in perceptron weights :  [15, 17, 20] \n",
      "\n",
      "\n",
      "#6 perceptron test accuracy :  62.281 % \n",
      "\n",
      "\n",
      "#7 perceptron test accuracy :  64.035 % \n"
     ]
    }
   ],
   "source": [
    "################################################################################# \n",
    "# TODO:                                                                         #\n",
    "# use 80% of normalized data as train and 20% as test data.(just use the data   # \n",
    "# from last part)                                                               #\n",
    "# 1- compute the correlation coefficient between each feature and target.       #\n",
    "# 2- Report the features that their correlation is more than 0.5                #\n",
    "# 3- compute the correlation between the features you reported in 2nd           #\n",
    "# section and report features that their correlation with other features        #\n",
    "# is less than 0.5                                                              #\n",
    "# 4- use perceptron from sklearn package to classify the data. Report accurracy #\n",
    "# for test data and sort the features based on their weights in perceptron.     #\n",
    "# IMPORTANT: Don't forget to add 1s to the end of feature vectors to be         #\n",
    "# multiplied by bias term of weight in perceptron.                              #\n",
    "# 5- compare the features you reported in section 2 and 3 with the features     #\n",
    "# that have the most weights in perceptron and write your analysis below        #\n",
    "# 6 - Classify data with perceptron and use only the features you repoted in    # \n",
    "# section 2 and report accuracy for test data.                                  #\n",
    "# 7 - Do the same with section 3 and compare accuracies.                        #\n",
    "#################################################################################\n",
    "from scipy.stats import pearsonr\n",
    "from sklearn.linear_model import Perceptron \n",
    "#0\n",
    "\n",
    "X_data = df.drop(\"target\",axis = 1)\n",
    "X_data = (X_data - X_data.min()) / (X_data.max() - X_data.min())\n",
    "y = cancer.target\n",
    "X_train, X_test, y_train, y_test = train_test_split(X_data, y, test_size=0.2, random_state=1)\n",
    "\n",
    "#1\n",
    "\n",
    "X = pd.DataFrame(X_train)\n",
    "Xtest = pd.DataFrame(X_test)\n",
    "corr = X.apply(lambda x: abs(x.corr(df.target)))\n",
    "# print(corr)\n",
    "\n",
    "#2\n",
    "features_num = [n for n, c in enumerate(corr) if c > 0.5]\n",
    "features_name_2 = [features[i] for i in features_num]\n",
    "\n",
    "#3\n",
    "corrs = []\n",
    "corrs_length = []\n",
    "for f1 in features_name_2:\n",
    "    corrs_length.append(len([(abs(pearsonr(X[f1], X[f2])[0]),f2) for f2 in features_name_2 if abs(pearsonr(X[f1], X[f2])[0]) < 0.5]) )\n",
    "sorted_corrs_index = sorted(range(len(corrs_length)), key=lambda k: corrs_length[k],reverse = True)\n",
    "selected_features = sorted_corrs_index[:3]\n",
    "selected_features_name = [features_name_2[i] for i in selected_features] \n",
    "\n",
    "#4\n",
    "\n",
    "new_col = np.array([1 for i in range(len(X_train))]).reshape(len(X_train),1)\n",
    "X_train = np.append(X_train, new_col, 1)\n",
    "new_col = np.array([1 for i in range(len(X_test))]).reshape(len(X_test),1)\n",
    "X_test = np.append(X_test, new_col, 1)\n",
    "perceptron_model = Perceptron(random_state=10, eta0=0.1e-3)\n",
    "perceptron_model.fit(X_train, y_train)\n",
    "weigth = perceptron_model.coef_[0]\n",
    "pred_test = perceptron_model.predict(X_test)\n",
    "correct = 0\n",
    "for i,j in zip(y_test, pred_test) :\n",
    "    if i == j :\n",
    "        correct+=1\n",
    "print(\"perceptron test accuracy : \", round(correct*100/len(y_test),3) ,\"% \\n \")\n",
    "sorted_weigth = sorted(range(len(weigth)), key=lambda k: weigth[k],reverse = True)\n",
    "perceptron_selected_features_name = [features[i] for i in sorted_weigth if i != 30]\n",
    "\n",
    "\n",
    "#5\n",
    "print(\"#2 feature selections : \", features_name_2,\"\\n\")\n",
    "print(\"#3 feature selections : \",selected_features_name,\"\\n\")\n",
    "print(\"perceptron features : \",perceptron_selected_features_name,\"\\n\")\n",
    "in_perceptron2 = [perceptron_selected_features_name.index(i)+1 for i in features_name_2]\n",
    "in_perceptron3 = [perceptron_selected_features_name.index(i)+1 for i in selected_features_name]\n",
    "\n",
    "print(\"\\n#2 feature selections features rank in perceptron weights : \",in_perceptron2,\"\\n\")\n",
    "print(\"\\n#3 feature selections features rank in perceptron weights : \",in_perceptron3,\"\\n\")\n",
    "\n",
    "\n",
    "#6\n",
    "new1_X_train = []\n",
    "new1_X_test = []\n",
    "for f in features_name_2 :\n",
    "    new1_X_train.append(X[f])\n",
    "    new1_X_test.append(Xtest[f])\n",
    "    \n",
    "new1_X_train = np.asarray(new1_X_train)\n",
    "new1_X_train = new1_X_train.reshape(len(X_train),len(features_name_2))\n",
    "new_col = np.array([1 for i in range(len(X_train))]).reshape(len(X_train),1)\n",
    "new1_X_train = np.append(new1_X_train, new_col, 1)\n",
    "\n",
    "\n",
    "new1_X_test = np.asarray(new1_X_test)\n",
    "new1_X_test = new1_X_test.reshape(len(X_test),len(features_name_2))\n",
    "new_col = np.array([1 for i in range(len(new1_X_test))]).reshape(len(new1_X_test),1)\n",
    "new1_X_test = np.append(new1_X_test, new_col, 1)\n",
    "\n",
    "perceptron_model = Perceptron(random_state=10, eta0=0.1e-3)\n",
    "perceptron_model.fit(new1_X_train, y_train)\n",
    "pred_test = perceptron_model.predict(new1_X_test)\n",
    "correct = 0\n",
    "for i,j in zip(y_test, pred_test) :\n",
    "    if i == j :\n",
    "        correct+=1\n",
    "print(\"\\n#6 perceptron test accuracy : \", round(correct*100/len(y_test),3) ,\"% \\n\")\n",
    "\n",
    "#7\n",
    "new1_X_train = []\n",
    "new1_X_test = []\n",
    "for f in selected_features_name :\n",
    "    new1_X_train.append(X[f])\n",
    "    new1_X_test.append(Xtest[f])\n",
    "    \n",
    "new1_X_train = np.asarray(new1_X_train)\n",
    "new1_X_train = new1_X_train.reshape(len(X_train),len(selected_features_name))\n",
    "new_col = np.array([1 for i in range(len(X_train))]).reshape(len(X_train),1)\n",
    "new1_X_train = np.append(new1_X_train, new_col, 1)\n",
    "\n",
    "\n",
    "new1_X_test = np.asarray(new1_X_test)\n",
    "new1_X_test = new1_X_test.reshape(len(X_test),len(selected_features_name))\n",
    "new_col = np.array([1 for i in range(len(new1_X_test))]).reshape(len(new1_X_test),1)\n",
    "new1_X_test = np.append(new1_X_test, new_col, 1)\n",
    "\n",
    "perceptron_model = Perceptron(random_state=10, eta0=0.1e-3)\n",
    "\n",
    "perceptron_model.fit(new1_X_train, y_train)\n",
    "pred_test = perceptron_model.predict(new1_X_test)\n",
    "correct = 0\n",
    "for i,j in zip(y_test, pred_test) :\n",
    "    if i == j :\n",
    "        correct+=1\n",
    "print(\"\\n#7 perceptron test accuracy : \", round(correct*100/len(y_test),3) ,\"% \")\n",
    "\n"
   ]
  },
  {
   "cell_type": "markdown",
   "metadata": {
    "colab_type": "text",
    "id": "o0QJrI36-GNR"
   },
   "source": [
    "explanation of part 5 and 6:\n",
    "\n",
    "\n",
    "رنک ویژگی هایی که من به دست آورده ام در بخش دو و سه و فیچر هایی که وزن زیادی در پرسپترون داشتند در بالا پرینت شده است.\n",
    "به طور کلی به نظر می رسد فیچر هایی که از طریق محاسبه ی کورلیشن به دست آمده اند فیچر های خوبی نیستند و اکثرا جز فیچر هایی که در پرسپترون وزن بالایی دارند نمی باشند که این نشان می دهد این شیوه ی انتخاب ویژگی لزوما شیوه ی خوبی نیست و گاهی لزوما ارتباط خطی بین فیچرها نشان دهنده ی اهمیت آن ها برای پردیکت کردن تارگت نیست.\n"
   ]
  },
  {
   "cell_type": "markdown",
   "metadata": {
    "colab_type": "text",
    "id": "iTC2KZ1h-QO6"
   },
   "source": []
  },
  {
   "cell_type": "markdown",
   "metadata": {
    "colab_type": "text",
    "id": "k_XG0iKSRqnE"
   },
   "source": [
    "Question: Is it important to extract features before classifying using methods like decision tree and SVM? why? \n",
    "\n",
    "بله چون این کار باعث می شودد تا فیچرهای نا مربوط حذف شوند که هم در سرعت اجرای الگوریتم کمک میکند (در تعاد ویژگی های زیاد )و هم اورفیت را کاهش می دهد ."
   ]
  },
  {
   "cell_type": "markdown",
   "metadata": {
    "colab_type": "text",
    "id": "ro6v3JSBRsd5"
   },
   "source": []
  },
  {
   "cell_type": "markdown",
   "metadata": {
    "colab_type": "text",
    "id": "eQjRm5a6j8KZ"
   },
   "source": [
    "## problem 5. mRMR (10 bonus points) </br>\n",
    "In this part you should write your own code and classify the data using mRMR method.You can use \"pymrmr\" package for this part."
   ]
  },
  {
   "cell_type": "code",
   "execution_count": 14,
   "metadata": {
    "colab": {},
    "colab_type": "code",
    "id": "xQs-LPupRoDx"
   },
   "outputs": [
    {
     "name": "stdout",
     "output_type": "stream",
     "text": [
      " perceptron test accuracy for  :  3  number of features from pymrmr 63.1578947368421 % \n",
      " perceptron test accuracy for  :  5  number of features from pymrmr 57.01754385964912 % \n",
      " perceptron test accuracy for  :  7  number of features from pymrmr 63.1578947368421 % \n",
      " perceptron test accuracy for  :  10  number of features from pymrmr 64.03508771929825 % \n",
      " perceptron test accuracy for  :  13  number of features from pymrmr 38.59649122807017 % \n",
      " perceptron test accuracy for  :  15  number of features from pymrmr 63.1578947368421 % \n",
      " perceptron test accuracy for  :  17  number of features from pymrmr 36.84210526315789 % \n",
      " perceptron test accuracy for  :  20  number of features from pymrmr 56.14035087719298 % \n",
      " perceptron test accuracy for  :  25  number of features from pymrmr 46.49122807017544 % \n"
     ]
    }
   ],
   "source": [
    "import matplotlib.pyplot as plt\n",
    "from sklearn.model_selection import train_test_split\n",
    "import numpy as np\n",
    "import pymrmr\n",
    "import pandas as pd\n",
    "from sklearn.linear_model import Perceptron\n",
    "\n",
    "X_data = df.drop(\"target\",axis = 1)\n",
    "X_data = (X_data - X_data.min()) / (X_data.max() - X_data.min())\n",
    "y = cancer.target\n",
    "X_train, X_test, y_train, y_test = train_test_split(X_data, y, test_size=0.2, random_state=1)\n",
    "X = pd.DataFrame(X_train)\n",
    "\n",
    "for i in [3,5,7,10,13,15,17,20,25]:\n",
    "    selected_features_name = pymrmr.mRMR(X, 'MIQ', i)\n",
    "\n",
    "    new1_X_train = []\n",
    "    new1_X_test = []\n",
    "    for f in selected_features_name:\n",
    "        new1_X_train.append(X[f])\n",
    "        new1_X_test.append(X_test[f])\n",
    "\n",
    "    new1_X_train = np.asarray(new1_X_train)\n",
    "    new1_X_train = new1_X_train.reshape(len(X_train),len(selected_features_name))\n",
    "    new_col = np.array([1 for i in range(len(X_train))]).reshape(len(X_train),1)\n",
    "    new1_X_train = np.append(new1_X_train, new_col, 1)\n",
    "\n",
    "\n",
    "    new1_X_test = np.asarray(new1_X_test)\n",
    "    new1_X_test = new1_X_test.reshape(len(X_test),len(selected_features_name))\n",
    "    new_col = np.array([1 for i in range(len(new1_X_test))]).reshape(len(new1_X_test),1)\n",
    "    new1_X_test = np.append(new1_X_test, new_col, 1)\n",
    "\n",
    "    perceptron_model = Perceptron(random_state=7,max_iter=500, eta0=0.1)\n",
    "\n",
    "    perceptron_model.fit(new1_X_train, y_train)\n",
    "    pred_test = perceptron_model.predict(new1_X_test)\n",
    "    acc = [1 if y_test[i] == pred_test[i] else 0 for i in range(len(y_test))]\n",
    "\n",
    "    print(\" perceptron test accuracy for  : \",i,\" number of features from pymrmr\", (sum(acc)/len(y_test)) * 100 ,\"% \")"
   ]
  },
  {
   "cell_type": "markdown",
   "metadata": {},
   "source": [
    "در قسمت بالا  با استفاده از لایبرری گفته شده ویژگی ها به دست آمده اند و برای تعداد مختلفی ویژگی که در بالا ذکر شده است دقا پرسپترون گزارش شده است . همانطور که میبینیم این روش انتخاب ویژگی به نظر می رسد که برای این دیتا مناسب نیست و دقت خوبی به ما نمی دهد."
   ]
  },
  {
   "cell_type": "code",
   "execution_count": null,
   "metadata": {},
   "outputs": [],
   "source": []
  }
 ],
 "metadata": {
  "colab": {
   "collapsed_sections": [],
   "name": "MLBio_HW3_P.ipynb",
   "provenance": []
  },
  "kernelspec": {
   "display_name": "Python 3",
   "language": "python",
   "name": "python3"
  },
  "language_info": {
   "codemirror_mode": {
    "name": "ipython",
    "version": 3
   },
   "file_extension": ".py",
   "mimetype": "text/x-python",
   "name": "python",
   "nbconvert_exporter": "python",
   "pygments_lexer": "ipython3",
   "version": "3.7.6"
  }
 },
 "nbformat": 4,
 "nbformat_minor": 1
}
