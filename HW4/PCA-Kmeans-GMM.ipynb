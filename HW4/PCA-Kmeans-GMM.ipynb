{
 "cells": [
  {
   "cell_type": "markdown",
   "metadata": {
    "colab_type": "text",
    "id": "uvXSx2_9qxMn"
   },
   "source": [
    "#  Machine Learning for Bioinformatics\n",
    "## Practical Homework No.4 (100 points)"
   ]
  },
  {
   "cell_type": "markdown",
   "metadata": {
    "colab_type": "text",
    "id": "kXhZtIIaq69Y"
   },
   "source": [
    "#### Name: Monireh Safari\n",
    "#### Student No.: 98201803\n"
   ]
  },
  {
   "cell_type": "markdown",
   "metadata": {
    "colab_type": "text",
    "id": "OTQVem0I8SgS"
   },
   "source": [
    "## Imports"
   ]
  },
  {
   "cell_type": "markdown",
   "metadata": {
    "colab_type": "text",
    "id": "JgyrjEtdKY4k"
   },
   "source": [
    "run below cell to import necessary libraries. You are only allowed to use these libraries"
   ]
  },
  {
   "cell_type": "code",
   "execution_count": 169,
   "metadata": {
    "colab": {},
    "colab_type": "code",
    "id": "X4CELfLm8UpR"
   },
   "outputs": [],
   "source": [
    "import pandas as pd\n",
    "import numpy as np\n",
    "import matplotlib.pyplot as plt\n",
    "%matplotlib inline\n",
    "import seaborn as sns\n",
    "from sklearn.manifold import TSNE\n",
    "from sklearn.decomposition import PCA\n",
    "\n",
    "sns.set(rc={'figure.figsize':(11.7,8.27)})\n",
    "palette = sns.color_palette(\"bright\", 2)\n",
    "\n"
   ]
  },
  {
   "cell_type": "markdown",
   "metadata": {
    "colab_type": "text",
    "id": "hVgBVxJ4rqw3"
   },
   "source": [
    "## Dataset (10 points)"
   ]
  },
  {
   "cell_type": "markdown",
   "metadata": {
    "colab_type": "text",
    "id": "gSsTXPNcKPl-"
   },
   "source": [
    "This dataset comes from a proof-of-concept study published in 1999 by Golub et al. It showed how new cases of cancer could be classified by gene expression monitoring (via DNA microarray) and thereby provided a general approach for identifying new cancer classes and assigning tumors to known classes. These data were used to classify patients with acute myeloid leukemia (AML) and acute lymphoblastic leukemia (ALL)."
   ]
  },
  {
   "cell_type": "code",
   "execution_count": 170,
   "metadata": {
    "colab": {},
    "colab_type": "code",
    "id": "ICKMn_n9rtkv"
   },
   "outputs": [
    {
     "data": {
      "text/html": [
       "<div>\n",
       "<style scoped>\n",
       "    .dataframe tbody tr th:only-of-type {\n",
       "        vertical-align: middle;\n",
       "    }\n",
       "\n",
       "    .dataframe tbody tr th {\n",
       "        vertical-align: top;\n",
       "    }\n",
       "\n",
       "    .dataframe thead th {\n",
       "        text-align: right;\n",
       "    }\n",
       "</style>\n",
       "<table border=\"1\" class=\"dataframe\">\n",
       "  <thead>\n",
       "    <tr style=\"text-align: right;\">\n",
       "      <th></th>\n",
       "      <th>Gene Description</th>\n",
       "      <th>Gene Accession Number</th>\n",
       "      <th>1</th>\n",
       "      <th>2</th>\n",
       "      <th>3</th>\n",
       "      <th>4</th>\n",
       "      <th>5</th>\n",
       "      <th>6</th>\n",
       "      <th>7</th>\n",
       "      <th>8</th>\n",
       "      <th>...</th>\n",
       "      <th>57</th>\n",
       "      <th>58</th>\n",
       "      <th>60</th>\n",
       "      <th>61</th>\n",
       "      <th>65</th>\n",
       "      <th>66</th>\n",
       "      <th>63</th>\n",
       "      <th>64</th>\n",
       "      <th>62</th>\n",
       "      <th>72</th>\n",
       "    </tr>\n",
       "  </thead>\n",
       "  <tbody>\n",
       "    <tr>\n",
       "      <th>0</th>\n",
       "      <td>AFFX-BioB-5_at (endogenous control)</td>\n",
       "      <td>AFFX-BioB-5_at</td>\n",
       "      <td>-214</td>\n",
       "      <td>-139</td>\n",
       "      <td>-76</td>\n",
       "      <td>-135</td>\n",
       "      <td>-106</td>\n",
       "      <td>-138</td>\n",
       "      <td>-72</td>\n",
       "      <td>-413</td>\n",
       "      <td>...</td>\n",
       "      <td>-137</td>\n",
       "      <td>-157</td>\n",
       "      <td>-172</td>\n",
       "      <td>-47</td>\n",
       "      <td>-62</td>\n",
       "      <td>-58</td>\n",
       "      <td>-161</td>\n",
       "      <td>-48</td>\n",
       "      <td>-176</td>\n",
       "      <td>-131</td>\n",
       "    </tr>\n",
       "    <tr>\n",
       "      <th>1</th>\n",
       "      <td>AFFX-BioB-M_at (endogenous control)</td>\n",
       "      <td>AFFX-BioB-M_at</td>\n",
       "      <td>-153</td>\n",
       "      <td>-73</td>\n",
       "      <td>-49</td>\n",
       "      <td>-114</td>\n",
       "      <td>-125</td>\n",
       "      <td>-85</td>\n",
       "      <td>-144</td>\n",
       "      <td>-260</td>\n",
       "      <td>...</td>\n",
       "      <td>-51</td>\n",
       "      <td>-370</td>\n",
       "      <td>-122</td>\n",
       "      <td>-442</td>\n",
       "      <td>-198</td>\n",
       "      <td>-217</td>\n",
       "      <td>-215</td>\n",
       "      <td>-531</td>\n",
       "      <td>-284</td>\n",
       "      <td>-126</td>\n",
       "    </tr>\n",
       "    <tr>\n",
       "      <th>2</th>\n",
       "      <td>AFFX-BioB-3_at (endogenous control)</td>\n",
       "      <td>AFFX-BioB-3_at</td>\n",
       "      <td>-58</td>\n",
       "      <td>-1</td>\n",
       "      <td>-307</td>\n",
       "      <td>265</td>\n",
       "      <td>-76</td>\n",
       "      <td>215</td>\n",
       "      <td>238</td>\n",
       "      <td>7</td>\n",
       "      <td>...</td>\n",
       "      <td>-82</td>\n",
       "      <td>-77</td>\n",
       "      <td>38</td>\n",
       "      <td>-21</td>\n",
       "      <td>-5</td>\n",
       "      <td>63</td>\n",
       "      <td>-46</td>\n",
       "      <td>-124</td>\n",
       "      <td>-81</td>\n",
       "      <td>-50</td>\n",
       "    </tr>\n",
       "    <tr>\n",
       "      <th>3</th>\n",
       "      <td>AFFX-BioC-5_at (endogenous control)</td>\n",
       "      <td>AFFX-BioC-5_at</td>\n",
       "      <td>88</td>\n",
       "      <td>283</td>\n",
       "      <td>309</td>\n",
       "      <td>12</td>\n",
       "      <td>168</td>\n",
       "      <td>71</td>\n",
       "      <td>55</td>\n",
       "      <td>-2</td>\n",
       "      <td>...</td>\n",
       "      <td>178</td>\n",
       "      <td>340</td>\n",
       "      <td>31</td>\n",
       "      <td>396</td>\n",
       "      <td>141</td>\n",
       "      <td>95</td>\n",
       "      <td>146</td>\n",
       "      <td>431</td>\n",
       "      <td>9</td>\n",
       "      <td>211</td>\n",
       "    </tr>\n",
       "    <tr>\n",
       "      <th>4</th>\n",
       "      <td>AFFX-BioC-3_at (endogenous control)</td>\n",
       "      <td>AFFX-BioC-3_at</td>\n",
       "      <td>-295</td>\n",
       "      <td>-264</td>\n",
       "      <td>-376</td>\n",
       "      <td>-419</td>\n",
       "      <td>-230</td>\n",
       "      <td>-272</td>\n",
       "      <td>-399</td>\n",
       "      <td>-541</td>\n",
       "      <td>...</td>\n",
       "      <td>-135</td>\n",
       "      <td>-438</td>\n",
       "      <td>-201</td>\n",
       "      <td>-351</td>\n",
       "      <td>-256</td>\n",
       "      <td>-191</td>\n",
       "      <td>-172</td>\n",
       "      <td>-496</td>\n",
       "      <td>-294</td>\n",
       "      <td>-206</td>\n",
       "    </tr>\n",
       "  </tbody>\n",
       "</table>\n",
       "<p>5 rows × 74 columns</p>\n",
       "</div>"
      ],
      "text/plain": [
       "                      Gene Description Gene Accession Number    1    2    3  \\\n",
       "0  AFFX-BioB-5_at (endogenous control)        AFFX-BioB-5_at -214 -139  -76   \n",
       "1  AFFX-BioB-M_at (endogenous control)        AFFX-BioB-M_at -153  -73  -49   \n",
       "2  AFFX-BioB-3_at (endogenous control)        AFFX-BioB-3_at  -58   -1 -307   \n",
       "3  AFFX-BioC-5_at (endogenous control)        AFFX-BioC-5_at   88  283  309   \n",
       "4  AFFX-BioC-3_at (endogenous control)        AFFX-BioC-3_at -295 -264 -376   \n",
       "\n",
       "     4    5    6    7    8  ...   57   58   60   61   65   66   63   64   62  \\\n",
       "0 -135 -106 -138  -72 -413  ... -137 -157 -172  -47  -62  -58 -161  -48 -176   \n",
       "1 -114 -125  -85 -144 -260  ...  -51 -370 -122 -442 -198 -217 -215 -531 -284   \n",
       "2  265  -76  215  238    7  ...  -82  -77   38  -21   -5   63  -46 -124  -81   \n",
       "3   12  168   71   55   -2  ...  178  340   31  396  141   95  146  431    9   \n",
       "4 -419 -230 -272 -399 -541  ... -135 -438 -201 -351 -256 -191 -172 -496 -294   \n",
       "\n",
       "    72  \n",
       "0 -131  \n",
       "1 -126  \n",
       "2  -50  \n",
       "3  211  \n",
       "4 -206  \n",
       "\n",
       "[5 rows x 74 columns]"
      ]
     },
     "execution_count": 170,
     "metadata": {},
     "output_type": "execute_result"
    }
   ],
   "source": [
    "#####################################################################################\n",
    "#                          COMPLETE THE FOLLOWING SECTION                           #\n",
    "#####################################################################################\n",
    "# load all data using pandas. \n",
    "# DataSet.csv as train dataset.\n",
    "# labels.csv as data labels.\n",
    "# And Drop columns including call name as these columns as it doesn't have any \n",
    "# statistical relevance\n",
    "##################################################################################### \n",
    "Train_Data = pd.read_csv(\"DataSet.csv\")\n",
    "labels = pd.read_csv(\"labels.csv\")\n",
    "####################################################################################\n",
    "#                                   THE END                                        #\n",
    "####################################################################################  \n",
    "Train_Data.head()\n"
   ]
  },
  {
   "cell_type": "markdown",
   "metadata": {
    "colab_type": "text",
    "id": "yEVNpveEPL58"
   },
   "source": [
    "Here we go to pre process the data for pca analysis. do these steps one by one"
   ]
  },
  {
   "cell_type": "code",
   "execution_count": 171,
   "metadata": {
    "colab": {},
    "colab_type": "code",
    "id": "O5PpJg558njC"
   },
   "outputs": [
    {
     "data": {
      "text/html": [
       "<div>\n",
       "<style scoped>\n",
       "    .dataframe tbody tr th:only-of-type {\n",
       "        vertical-align: middle;\n",
       "    }\n",
       "\n",
       "    .dataframe tbody tr th {\n",
       "        vertical-align: top;\n",
       "    }\n",
       "\n",
       "    .dataframe thead th {\n",
       "        text-align: right;\n",
       "    }\n",
       "</style>\n",
       "<table border=\"1\" class=\"dataframe\">\n",
       "  <thead>\n",
       "    <tr style=\"text-align: right;\">\n",
       "      <th></th>\n",
       "      <th>1</th>\n",
       "      <th>2</th>\n",
       "      <th>3</th>\n",
       "      <th>4</th>\n",
       "      <th>5</th>\n",
       "      <th>6</th>\n",
       "      <th>7</th>\n",
       "      <th>8</th>\n",
       "      <th>9</th>\n",
       "      <th>10</th>\n",
       "      <th>...</th>\n",
       "      <th>57</th>\n",
       "      <th>58</th>\n",
       "      <th>60</th>\n",
       "      <th>61</th>\n",
       "      <th>65</th>\n",
       "      <th>66</th>\n",
       "      <th>63</th>\n",
       "      <th>64</th>\n",
       "      <th>62</th>\n",
       "      <th>72</th>\n",
       "    </tr>\n",
       "  </thead>\n",
       "  <tbody>\n",
       "    <tr>\n",
       "      <th>0</th>\n",
       "      <td>-214</td>\n",
       "      <td>-139</td>\n",
       "      <td>-76</td>\n",
       "      <td>-135</td>\n",
       "      <td>-106</td>\n",
       "      <td>-138</td>\n",
       "      <td>-72</td>\n",
       "      <td>-413</td>\n",
       "      <td>5</td>\n",
       "      <td>-88</td>\n",
       "      <td>...</td>\n",
       "      <td>-137</td>\n",
       "      <td>-157</td>\n",
       "      <td>-172</td>\n",
       "      <td>-47</td>\n",
       "      <td>-62</td>\n",
       "      <td>-58</td>\n",
       "      <td>-161</td>\n",
       "      <td>-48</td>\n",
       "      <td>-176</td>\n",
       "      <td>-131</td>\n",
       "    </tr>\n",
       "    <tr>\n",
       "      <th>1</th>\n",
       "      <td>-153</td>\n",
       "      <td>-73</td>\n",
       "      <td>-49</td>\n",
       "      <td>-114</td>\n",
       "      <td>-125</td>\n",
       "      <td>-85</td>\n",
       "      <td>-144</td>\n",
       "      <td>-260</td>\n",
       "      <td>-127</td>\n",
       "      <td>-105</td>\n",
       "      <td>...</td>\n",
       "      <td>-51</td>\n",
       "      <td>-370</td>\n",
       "      <td>-122</td>\n",
       "      <td>-442</td>\n",
       "      <td>-198</td>\n",
       "      <td>-217</td>\n",
       "      <td>-215</td>\n",
       "      <td>-531</td>\n",
       "      <td>-284</td>\n",
       "      <td>-126</td>\n",
       "    </tr>\n",
       "    <tr>\n",
       "      <th>2</th>\n",
       "      <td>-58</td>\n",
       "      <td>-1</td>\n",
       "      <td>-307</td>\n",
       "      <td>265</td>\n",
       "      <td>-76</td>\n",
       "      <td>215</td>\n",
       "      <td>238</td>\n",
       "      <td>7</td>\n",
       "      <td>106</td>\n",
       "      <td>42</td>\n",
       "      <td>...</td>\n",
       "      <td>-82</td>\n",
       "      <td>-77</td>\n",
       "      <td>38</td>\n",
       "      <td>-21</td>\n",
       "      <td>-5</td>\n",
       "      <td>63</td>\n",
       "      <td>-46</td>\n",
       "      <td>-124</td>\n",
       "      <td>-81</td>\n",
       "      <td>-50</td>\n",
       "    </tr>\n",
       "    <tr>\n",
       "      <th>3</th>\n",
       "      <td>88</td>\n",
       "      <td>283</td>\n",
       "      <td>309</td>\n",
       "      <td>12</td>\n",
       "      <td>168</td>\n",
       "      <td>71</td>\n",
       "      <td>55</td>\n",
       "      <td>-2</td>\n",
       "      <td>268</td>\n",
       "      <td>219</td>\n",
       "      <td>...</td>\n",
       "      <td>178</td>\n",
       "      <td>340</td>\n",
       "      <td>31</td>\n",
       "      <td>396</td>\n",
       "      <td>141</td>\n",
       "      <td>95</td>\n",
       "      <td>146</td>\n",
       "      <td>431</td>\n",
       "      <td>9</td>\n",
       "      <td>211</td>\n",
       "    </tr>\n",
       "    <tr>\n",
       "      <th>4</th>\n",
       "      <td>-295</td>\n",
       "      <td>-264</td>\n",
       "      <td>-376</td>\n",
       "      <td>-419</td>\n",
       "      <td>-230</td>\n",
       "      <td>-272</td>\n",
       "      <td>-399</td>\n",
       "      <td>-541</td>\n",
       "      <td>-210</td>\n",
       "      <td>-178</td>\n",
       "      <td>...</td>\n",
       "      <td>-135</td>\n",
       "      <td>-438</td>\n",
       "      <td>-201</td>\n",
       "      <td>-351</td>\n",
       "      <td>-256</td>\n",
       "      <td>-191</td>\n",
       "      <td>-172</td>\n",
       "      <td>-496</td>\n",
       "      <td>-294</td>\n",
       "      <td>-206</td>\n",
       "    </tr>\n",
       "  </tbody>\n",
       "</table>\n",
       "<p>5 rows × 72 columns</p>\n",
       "</div>"
      ],
      "text/plain": [
       "     1    2    3    4    5    6    7    8    9   10  ...   57   58   60   61  \\\n",
       "0 -214 -139  -76 -135 -106 -138  -72 -413    5  -88  ... -137 -157 -172  -47   \n",
       "1 -153  -73  -49 -114 -125  -85 -144 -260 -127 -105  ...  -51 -370 -122 -442   \n",
       "2  -58   -1 -307  265  -76  215  238    7  106   42  ...  -82  -77   38  -21   \n",
       "3   88  283  309   12  168   71   55   -2  268  219  ...  178  340   31  396   \n",
       "4 -295 -264 -376 -419 -230 -272 -399 -541 -210 -178  ... -135 -438 -201 -351   \n",
       "\n",
       "    65   66   63   64   62   72  \n",
       "0  -62  -58 -161  -48 -176 -131  \n",
       "1 -198 -217 -215 -531 -284 -126  \n",
       "2   -5   63  -46 -124  -81  -50  \n",
       "3  141   95  146  431    9  211  \n",
       "4 -256 -191 -172 -496 -294 -206  \n",
       "\n",
       "[5 rows x 72 columns]"
      ]
     },
     "execution_count": 171,
     "metadata": {},
     "output_type": "execute_result"
    }
   ],
   "source": [
    "#####################################################################################\n",
    "#                          COMPLETE THE FOLLOWING SECTION                           #\n",
    "#####################################################################################\n",
    "# Drop Gene Description and Gene Accession Number to have a numeric matrix.\n",
    "# the result should be stored in train variable.\n",
    "#####################################################################################\n",
    "train = Train_Data.drop([\"Gene Description\",\"Gene Accession Number\"],axis=1)\n",
    "####################################################################################\n",
    "#                                   THE END                                        #\n",
    "####################################################################################  \n",
    "train.index = pd.to_numeric(train.index)\n",
    "train.sort_index(inplace=True)\n",
    "\n",
    "train.head()\n"
   ]
  },
  {
   "cell_type": "code",
   "execution_count": null,
   "metadata": {},
   "outputs": [],
   "source": []
  },
  {
   "cell_type": "raw",
   "metadata": {
    "colab_type": "text",
    "id": "gppaxpk-RtXD"
   },
   "source": [
    "## Variable Selection\n",
    "\n",
    "To reduce the computation costs, instead of working on all 20184 genes present in the dataset, we will focus on 1000 genes that have the most variance."
   ]
  },
  {
   "cell_type": "code",
   "execution_count": 172,
   "metadata": {
    "colab": {},
    "colab_type": "code",
    "id": "ajzcaXDXRr-P"
   },
   "outputs": [
    {
     "name": "stdout",
     "output_type": "stream",
     "text": [
      "7129\n"
     ]
    },
    {
     "data": {
      "text/html": [
       "<div>\n",
       "<style scoped>\n",
       "    .dataframe tbody tr th:only-of-type {\n",
       "        vertical-align: middle;\n",
       "    }\n",
       "\n",
       "    .dataframe tbody tr th {\n",
       "        vertical-align: top;\n",
       "    }\n",
       "\n",
       "    .dataframe thead th {\n",
       "        text-align: right;\n",
       "    }\n",
       "</style>\n",
       "<table border=\"1\" class=\"dataframe\">\n",
       "  <thead>\n",
       "    <tr style=\"text-align: right;\">\n",
       "      <th></th>\n",
       "      <th>1</th>\n",
       "      <th>2</th>\n",
       "      <th>3</th>\n",
       "      <th>4</th>\n",
       "      <th>5</th>\n",
       "      <th>6</th>\n",
       "      <th>7</th>\n",
       "      <th>8</th>\n",
       "      <th>9</th>\n",
       "      <th>10</th>\n",
       "      <th>...</th>\n",
       "      <th>57</th>\n",
       "      <th>58</th>\n",
       "      <th>60</th>\n",
       "      <th>61</th>\n",
       "      <th>65</th>\n",
       "      <th>66</th>\n",
       "      <th>63</th>\n",
       "      <th>64</th>\n",
       "      <th>62</th>\n",
       "      <th>72</th>\n",
       "    </tr>\n",
       "  </thead>\n",
       "  <tbody>\n",
       "    <tr>\n",
       "      <th>5709</th>\n",
       "      <td>17602</td>\n",
       "      <td>9868</td>\n",
       "      <td>28056</td>\n",
       "      <td>23812</td>\n",
       "      <td>3553</td>\n",
       "      <td>7809</td>\n",
       "      <td>41911</td>\n",
       "      <td>3991</td>\n",
       "      <td>978</td>\n",
       "      <td>6153</td>\n",
       "      <td>...</td>\n",
       "      <td>2545</td>\n",
       "      <td>49282</td>\n",
       "      <td>34378</td>\n",
       "      <td>36026</td>\n",
       "      <td>3542</td>\n",
       "      <td>53204</td>\n",
       "      <td>32</td>\n",
       "      <td>382</td>\n",
       "      <td>7531</td>\n",
       "      <td>27457</td>\n",
       "    </tr>\n",
       "    <tr>\n",
       "      <th>5710</th>\n",
       "      <td>17962</td>\n",
       "      <td>16964</td>\n",
       "      <td>23436</td>\n",
       "      <td>22240</td>\n",
       "      <td>5472</td>\n",
       "      <td>7418</td>\n",
       "      <td>33041</td>\n",
       "      <td>25832</td>\n",
       "      <td>1671</td>\n",
       "      <td>8419</td>\n",
       "      <td>...</td>\n",
       "      <td>3115</td>\n",
       "      <td>59647</td>\n",
       "      <td>29929</td>\n",
       "      <td>30107</td>\n",
       "      <td>5836</td>\n",
       "      <td>33833</td>\n",
       "      <td>77</td>\n",
       "      <td>780</td>\n",
       "      <td>11055</td>\n",
       "      <td>23314</td>\n",
       "    </tr>\n",
       "    <tr>\n",
       "      <th>18</th>\n",
       "      <td>15091</td>\n",
       "      <td>11038</td>\n",
       "      <td>16692</td>\n",
       "      <td>15763</td>\n",
       "      <td>18128</td>\n",
       "      <td>34207</td>\n",
       "      <td>30801</td>\n",
       "      <td>25147</td>\n",
       "      <td>15272</td>\n",
       "      <td>21801</td>\n",
       "      <td>...</td>\n",
       "      <td>38690</td>\n",
       "      <td>58203</td>\n",
       "      <td>31022</td>\n",
       "      <td>36915</td>\n",
       "      <td>22818</td>\n",
       "      <td>39323</td>\n",
       "      <td>15689</td>\n",
       "      <td>41570</td>\n",
       "      <td>39538</td>\n",
       "      <td>23462</td>\n",
       "    </tr>\n",
       "    <tr>\n",
       "      <th>5506</th>\n",
       "      <td>21011</td>\n",
       "      <td>25240</td>\n",
       "      <td>14950</td>\n",
       "      <td>31449</td>\n",
       "      <td>12606</td>\n",
       "      <td>24722</td>\n",
       "      <td>30267</td>\n",
       "      <td>34136</td>\n",
       "      <td>13273</td>\n",
       "      <td>6933</td>\n",
       "      <td>...</td>\n",
       "      <td>9267</td>\n",
       "      <td>10769</td>\n",
       "      <td>18444</td>\n",
       "      <td>25102</td>\n",
       "      <td>8212</td>\n",
       "      <td>3946</td>\n",
       "      <td>25367</td>\n",
       "      <td>71369</td>\n",
       "      <td>48374</td>\n",
       "      <td>17061</td>\n",
       "    </tr>\n",
       "    <tr>\n",
       "      <th>1867</th>\n",
       "      <td>-272</td>\n",
       "      <td>-194</td>\n",
       "      <td>-79</td>\n",
       "      <td>-300</td>\n",
       "      <td>-157</td>\n",
       "      <td>-202</td>\n",
       "      <td>-253</td>\n",
       "      <td>-272</td>\n",
       "      <td>-130</td>\n",
       "      <td>352</td>\n",
       "      <td>...</td>\n",
       "      <td>74</td>\n",
       "      <td>0</td>\n",
       "      <td>34591</td>\n",
       "      <td>-201</td>\n",
       "      <td>-5</td>\n",
       "      <td>58</td>\n",
       "      <td>-398</td>\n",
       "      <td>252</td>\n",
       "      <td>-97</td>\n",
       "      <td>746</td>\n",
       "    </tr>\n",
       "  </tbody>\n",
       "</table>\n",
       "<p>5 rows × 72 columns</p>\n",
       "</div>"
      ],
      "text/plain": [
       "          1      2      3      4      5      6      7      8      9     10  \\\n",
       "5709  17602   9868  28056  23812   3553   7809  41911   3991    978   6153   \n",
       "5710  17962  16964  23436  22240   5472   7418  33041  25832   1671   8419   \n",
       "18    15091  11038  16692  15763  18128  34207  30801  25147  15272  21801   \n",
       "5506  21011  25240  14950  31449  12606  24722  30267  34136  13273   6933   \n",
       "1867   -272   -194    -79   -300   -157   -202   -253   -272   -130    352   \n",
       "\n",
       "      ...     57     58     60     61     65     66     63     64     62  \\\n",
       "5709  ...   2545  49282  34378  36026   3542  53204     32    382   7531   \n",
       "5710  ...   3115  59647  29929  30107   5836  33833     77    780  11055   \n",
       "18    ...  38690  58203  31022  36915  22818  39323  15689  41570  39538   \n",
       "5506  ...   9267  10769  18444  25102   8212   3946  25367  71369  48374   \n",
       "1867  ...     74      0  34591   -201     -5     58   -398    252    -97   \n",
       "\n",
       "         72  \n",
       "5709  27457  \n",
       "5710  23314  \n",
       "18    23462  \n",
       "5506  17061  \n",
       "1867    746  \n",
       "\n",
       "[5 rows x 72 columns]"
      ]
     },
     "execution_count": 172,
     "metadata": {},
     "output_type": "execute_result"
    }
   ],
   "source": [
    "# TODO: limited_data should contain columns of data corresponding to genes with most variance\n",
    "all_vars = np.var(train.T)\n",
    "print(len(all_vars))\n",
    "\n",
    "soreted_all_vars = sorted(range(len(all_vars)), key=lambda k: all_vars[k],reverse= True)\n",
    "limited_data = []\n",
    "for j in range(1000) : \n",
    "    limited_data.append(train.loc[soreted_all_vars[j]])\n",
    "limited_data = pd.DataFrame(limited_data)\n",
    "\n",
    "limited_data.head()"
   ]
  },
  {
   "cell_type": "markdown",
   "metadata": {
    "colab_type": "text",
    "id": "O8WfvVXYrvZA"
   },
   "source": [
    "## PCA (30 points)\n"
   ]
  },
  {
   "cell_type": "markdown",
   "metadata": {
    "colab_type": "text",
    "id": "GNlO2lGATkiA"
   },
   "source": [
    "Implement PCA. Then use it to project the data to the latent space. Finally, reconstruct the data and report the reconstruction error for both training and test datasets. Note that you should implement the PCA, so using existing libraries is not allowed. you should use numpy to compute eigenvectors/eigenvalues of a matrix."
   ]
  },
  {
   "cell_type": "code",
   "execution_count": 173,
   "metadata": {
    "colab": {},
    "colab_type": "code",
    "id": "VcaZiPwFPupP"
   },
   "outputs": [],
   "source": [
    "from sklearn.metrics import mean_squared_error\n",
    "def loss_function(a, b):\n",
    "  #####################################################################################\n",
    "  #                          COMPLETE THE FOLLOWING SECTION                           #\n",
    "  #####################################################################################\n",
    "  # Implement a function that given the original data and a\n",
    "  # reconstructed version, returns the reconstruction's mean squared error.\n",
    "  #####################################################################################\n",
    "    b = np.array(b).T\n",
    "    a = np.array(a)\n",
    "    c = np.power(np.subtract(a, b), 2)\n",
    "        \n",
    "    result = np.mean(c)\n",
    "  ####################################################################################\n",
    "  #                                   THE END                                        #\n",
    "  #################################################################################### \n",
    "    return result"
   ]
  },
  {
   "cell_type": "code",
   "execution_count": 183,
   "metadata": {
    "colab": {},
    "colab_type": "code",
    "id": "K45o0KZaT3XY"
   },
   "outputs": [],
   "source": [
    "def PCA(X, n_components=72):\n",
    "    #####################################################################################\n",
    "    #                          COMPLETE THE FOLLOWING SECTION                           #\n",
    "    #####################################################################################\n",
    "    # X: a vector of shape (N, M)\n",
    "    # n_components: size of latent space (< M)\n",
    "    # returns a vector of shape (n_components, M) containing the first `n_components` PCs.\n",
    "    #####################################################################################\n",
    "    XT = X.T\n",
    "    M = np.mean(XT.T, axis=1)\n",
    "    C =  np.array(XT - M)\n",
    "    V = np.cov(C.T)\n",
    "    values, vectors = np.linalg.eig(V)\n",
    "    sorted_values = sorted(range(len(values)), key=lambda k: values[k],reverse= True)\n",
    "    vector = []\n",
    "    for i in range(n_components):\n",
    "        vector.append(vectors[sorted_values[i]])\n",
    "    vector = np.array(vector)\n",
    "    ####################################################################################\n",
    "    #                                   THE END                                        #\n",
    "    #################################################################################### \n",
    "    return vector"
   ]
  },
  {
   "cell_type": "code",
   "execution_count": 184,
   "metadata": {
    "colab": {},
    "colab_type": "code",
    "id": "L06lCh8I-0F2"
   },
   "outputs": [],
   "source": [
    "pca = PCA(limited_data)"
   ]
  },
  {
   "cell_type": "code",
   "execution_count": 190,
   "metadata": {
    "colab": {},
    "colab_type": "code",
    "id": "u8KGa5L9tf_j"
   },
   "outputs": [],
   "source": [
    "def reconstruct_PCA(X):\n",
    "    #####################################################################################\n",
    "    #                          COMPLETE THE FOLLOWING SECTION                           #\n",
    "    #####################################################################################\n",
    "    # Compute PCs for the X.\n",
    "    # Project X to the space of computed PCs.\n",
    "    # Reconstruct X from projected data.\n",
    "    #####################################################################################\n",
    "    principal_components = PCA(X)\n",
    "    principal_components = principal_components.real\n",
    "    XT = X.T\n",
    "    M = np.mean(XT.T, axis=1)\n",
    "    M_matrix = np.matrix([M for i in range(72)])\n",
    "    C = np.array(XT - M)\n",
    "    projected_data = C.dot(principal_components.T) \n",
    "    print(\"projected data shape : \", projected_data.shape)\n",
    "    reconstructed_data = projected_data.dot(principal_components) + M_matrix\n",
    "    print(\"reconstructed data shape : \", reconstructed_data.shape)\n",
    "   \n",
    "    \n",
    "    \n",
    "    ####################################################################################\n",
    "    #                                   THE END                                        #\n",
    "    ####################################################################################     \n",
    "    return reconstructed_data\n"
   ]
  },
  {
   "cell_type": "code",
   "execution_count": 191,
   "metadata": {
    "colab": {},
    "colab_type": "code",
    "id": "uxyrH2Wq_CQv"
   },
   "outputs": [
    {
     "name": "stdout",
     "output_type": "stream",
     "text": [
      "projected data shape :  (72, 72)\n",
      "reconstructed data shape :  (72, 1000)\n"
     ]
    }
   ],
   "source": [
    "pca_rec = reconstruct_PCA(limited_data)"
   ]
  },
  {
   "cell_type": "code",
   "execution_count": 192,
   "metadata": {
    "colab": {},
    "colab_type": "code",
    "id": "W9-zt2Gp9y52"
   },
   "outputs": [
    {
     "data": {
      "text/plain": [
       "3725633.9464746113"
      ]
     },
     "execution_count": 192,
     "metadata": {},
     "output_type": "execute_result"
    }
   ],
   "source": [
    "## Run This cell to find how your functions working!\n",
    "loss_function(pca_rec , limited_data.values.tolist())\n"
   ]
  },
  {
   "cell_type": "markdown",
   "metadata": {
    "colab_type": "text",
    "id": "RmGUESkSthcB"
   },
   "source": [
    "## K-Means (20 points)\n",
    "\n"
   ]
  },
  {
   "cell_type": "markdown",
   "metadata": {
    "colab_type": "text",
    "id": "WquMFXsuuYsi"
   },
   "source": [
    "read the below cell codes. this is using sklearn pca implementation. we use this function to use in our kmeans clustering."
   ]
  },
  {
   "cell_type": "code",
   "execution_count": 193,
   "metadata": {
    "colab": {},
    "colab_type": "code",
    "id": "weP1UN8ATaJi"
   },
   "outputs": [
    {
     "data": {
      "text/html": [
       "<div>\n",
       "<style scoped>\n",
       "    .dataframe tbody tr th:only-of-type {\n",
       "        vertical-align: middle;\n",
       "    }\n",
       "\n",
       "    .dataframe tbody tr th {\n",
       "        vertical-align: top;\n",
       "    }\n",
       "\n",
       "    .dataframe thead th {\n",
       "        text-align: right;\n",
       "    }\n",
       "</style>\n",
       "<table border=\"1\" class=\"dataframe\">\n",
       "  <thead>\n",
       "    <tr style=\"text-align: right;\">\n",
       "      <th></th>\n",
       "      <th>PC1</th>\n",
       "      <th>PC2</th>\n",
       "      <th>cancer</th>\n",
       "    </tr>\n",
       "  </thead>\n",
       "  <tbody>\n",
       "    <tr>\n",
       "      <th>0</th>\n",
       "      <td>4.341201</td>\n",
       "      <td>-4.770872</td>\n",
       "      <td>ALL</td>\n",
       "    </tr>\n",
       "    <tr>\n",
       "      <th>1</th>\n",
       "      <td>14.195648</td>\n",
       "      <td>1.693617</td>\n",
       "      <td>ALL</td>\n",
       "    </tr>\n",
       "    <tr>\n",
       "      <th>2</th>\n",
       "      <td>14.183927</td>\n",
       "      <td>-1.751284</td>\n",
       "      <td>ALL</td>\n",
       "    </tr>\n",
       "    <tr>\n",
       "      <th>3</th>\n",
       "      <td>1.756293</td>\n",
       "      <td>-3.357064</td>\n",
       "      <td>ALL</td>\n",
       "    </tr>\n",
       "    <tr>\n",
       "      <th>4</th>\n",
       "      <td>11.519685</td>\n",
       "      <td>-9.365318</td>\n",
       "      <td>ALL</td>\n",
       "    </tr>\n",
       "    <tr>\n",
       "      <th>...</th>\n",
       "      <td>...</td>\n",
       "      <td>...</td>\n",
       "      <td>...</td>\n",
       "    </tr>\n",
       "    <tr>\n",
       "      <th>67</th>\n",
       "      <td>-9.111561</td>\n",
       "      <td>-8.859139</td>\n",
       "      <td>ALL</td>\n",
       "    </tr>\n",
       "    <tr>\n",
       "      <th>68</th>\n",
       "      <td>9.836477</td>\n",
       "      <td>22.720640</td>\n",
       "      <td>ALL</td>\n",
       "    </tr>\n",
       "    <tr>\n",
       "      <th>69</th>\n",
       "      <td>-1.017387</td>\n",
       "      <td>19.754241</td>\n",
       "      <td>ALL</td>\n",
       "    </tr>\n",
       "    <tr>\n",
       "      <th>70</th>\n",
       "      <td>-4.869207</td>\n",
       "      <td>17.797066</td>\n",
       "      <td>ALL</td>\n",
       "    </tr>\n",
       "    <tr>\n",
       "      <th>71</th>\n",
       "      <td>1.404915</td>\n",
       "      <td>-5.935698</td>\n",
       "      <td>ALL</td>\n",
       "    </tr>\n",
       "  </tbody>\n",
       "</table>\n",
       "<p>72 rows × 3 columns</p>\n",
       "</div>"
      ],
      "text/plain": [
       "          PC1        PC2 cancer\n",
       "0    4.341201  -4.770872    ALL\n",
       "1   14.195648   1.693617    ALL\n",
       "2   14.183927  -1.751284    ALL\n",
       "3    1.756293  -3.357064    ALL\n",
       "4   11.519685  -9.365318    ALL\n",
       "..        ...        ...    ...\n",
       "67  -9.111561  -8.859139    ALL\n",
       "68   9.836477  22.720640    ALL\n",
       "69  -1.017387  19.754241    ALL\n",
       "70  -4.869207  17.797066    ALL\n",
       "71   1.404915  -5.935698    ALL\n",
       "\n",
       "[72 rows x 3 columns]"
      ]
     },
     "execution_count": 193,
     "metadata": {},
     "output_type": "execute_result"
    }
   ],
   "source": [
    "from sklearn.preprocessing import StandardScaler\n",
    "from sklearn.decomposition import PCA\n",
    "limited_data_new = limited_data.T\n",
    "x_norm = StandardScaler().fit_transform(limited_data_new)\n",
    "pca = PCA(n_components=2)\n",
    "principalComponents = pca.fit_transform(x_norm)\n",
    "principalDf = pd.DataFrame(data = principalComponents\n",
    "             , columns = ['PC1', 'PC2'])\n",
    "principalDf = principalDf.set_index(labels.index)\n",
    "finalDf = pd.concat([principalDf, labels['cancer']], axis = 1)\n",
    "finalDf\n"
   ]
  },
  {
   "cell_type": "markdown",
   "metadata": {
    "colab_type": "text",
    "id": "PdOAi2mSkZKR"
   },
   "source": [
    "here we try to initialize centroids. Note that we already knows we have two cluster, So from our prior knowledge we define number of clusters equal to two."
   ]
  },
  {
   "cell_type": "code",
   "execution_count": 194,
   "metadata": {
    "colab": {},
    "colab_type": "code",
    "id": "f2ZM3kLwvX_n"
   },
   "outputs": [
    {
     "name": "stdout",
     "output_type": "stream",
     "text": [
      "[[23.  0.]\n",
      " [ 7. 30.]]\n"
     ]
    }
   ],
   "source": [
    "import copy\n",
    "np.random.seed(1000)\n",
    "# Number of clusters\n",
    "k = 2\n",
    "X = np.array(list(zip(finalDf['PC1'], finalDf['PC2'])))\n",
    "# X coordinates of random centroids\n",
    "C_x = np.random.randint(0, np.max(X)-20, size=k)\n",
    "# Y coordinates of random centroids\n",
    "C_y = np.random.randint(0, np.max(X)-20, size=k)\n",
    "C = np.array(list(zip(C_x, C_y)), dtype=np.float32)\n",
    "print(C)\n",
    "C_copy = copy.copy(C)"
   ]
  },
  {
   "cell_type": "markdown",
   "metadata": {
    "colab_type": "text",
    "id": "7hyU49kHkqhD"
   },
   "source": [
    "Now you can see the unlabeled data and our initialization data by running following cell"
   ]
  },
  {
   "cell_type": "code",
   "execution_count": 195,
   "metadata": {
    "colab": {},
    "colab_type": "code",
    "id": "44In_GGZvuHh"
   },
   "outputs": [
    {
     "data": {
      "text/plain": [
       "<matplotlib.collections.PathCollection at 0x1e1eeb48a88>"
      ]
     },
     "execution_count": 195,
     "metadata": {},
     "output_type": "execute_result"
    },
    {
     "data": {
      "image/png": "[encoded data removed]",
      "text/plain": [
       "<Figure size 842.4x595.44 with 1 Axes>"
      ]
     },
     "metadata": {},
     "output_type": "display_data"
    }
   ],
   "source": [
    "# Plotting along with the Centroids\n",
    "plt.scatter(finalDf['PC1'], finalDf['PC2'], c='#050505', s=7)\n",
    "plt.scatter(C_x, C_y, marker='*', s=200, c='g')"
   ]
  },
  {
   "cell_type": "markdown",
   "metadata": {
    "colab_type": "text",
    "id": "ugKD1qEDkzLZ"
   },
   "source": [
    "It's your turn. Implement K-Means function which return a np.array with size equal to your data. this array contain each point label that you assigned using kmeans clustering."
   ]
  },
  {
   "cell_type": "code",
   "execution_count": 196,
   "metadata": {
    "colab": {},
    "colab_type": "code",
    "id": "KCu4Q92Uv6mQ"
   },
   "outputs": [],
   "source": [
    "def Kmeans(X, Centroids):\n",
    "    \n",
    "    clusters = np.zeros(len(X))\n",
    "    # To store the value of centroids when it updates\n",
    "    C = Centroids\n",
    "    C_old = np.zeros(C.shape)\n",
    "    # Cluster Lables(0, 1)\n",
    "    clusters = np.zeros(len(X))\n",
    "    # Error func. - Distance between new centroids and old centroids\n",
    "    error = np.linalg.norm(C - C_old)\n",
    "    ####################################################################################\n",
    "    #                          COMPLETE THE FOLLOWING SECTION                          #\n",
    "    ####################################################################################\n",
    "    # Implement K-Means Clustering\n",
    "    # Assigning each value to its closest cluster\n",
    "    # Storing the old centroid values\n",
    "    # Finding the new centroids by taking the average value\n",
    "    # clusters variable should contain (0,1) labels. 0 for first cluster and 1 for the second. \n",
    "    ####################################################################################\n",
    "    # Loop will run till the error becomes zero\n",
    "    # Do Not Forget to update error condition.\n",
    "    c = 0\n",
    "    while error != 0:\n",
    "        c0_new = 0\n",
    "        c1_new = 0\n",
    "        for n,row in enumerate(X) :\n",
    "            dist0 = np.linalg.norm(np.array(row) - np.array(C[0]))\n",
    "            dist1 = np.linalg.norm(np.array(row) - np.array(C[1]))        \n",
    "            if dist0 < dist1 : \n",
    "                clusters[n] = 0 \n",
    "                c0_new+= row\n",
    "                \n",
    "            else : \n",
    "                clusters[n] = 1\n",
    "                c1_new+= row\n",
    "        c0_new = c0_new/len([i for i in clusters if i == 0])\n",
    "        c1_new = c1_new/len([i for i in clusters if i == 1])\n",
    "        C_old = C\n",
    "        C = [c0_new, c1_new]\n",
    "        error = np.linalg.norm(np.matrix(C) - np.matrix(C_old))\n",
    "        \n",
    "            \n",
    "            \n",
    "\n",
    "\n",
    "    ####################################################################################\n",
    "    #                                   THE END                                        #\n",
    "    ####################################################################################\n",
    "    print(\"finish\")\n",
    "    return clusters,C"
   ]
  },
  {
   "cell_type": "code",
   "execution_count": 197,
   "metadata": {
    "colab": {},
    "colab_type": "code",
    "id": "_ZY4LglCj2Oz"
   },
   "outputs": [
    {
     "name": "stdout",
     "output_type": "stream",
     "text": [
      "finish\n"
     ]
    }
   ],
   "source": [
    "clusters, centers = Kmeans(X, C)"
   ]
  },
  {
   "cell_type": "markdown",
   "metadata": {
    "colab_type": "text",
    "id": "liuvdw6Ml7wZ"
   },
   "source": [
    "Now just run cell below to plot your result. "
   ]
  },
  {
   "cell_type": "code",
   "execution_count": 199,
   "metadata": {
    "colab": {},
    "colab_type": "code",
    "id": "GOam4hp1wbn4"
   },
   "outputs": [
    {
     "name": "stdout",
     "output_type": "stream",
     "text": [
      "kmeans clusters' centers :  [-0.73560072 -5.60245289]\n",
      "acc :  0.7777777777777778\n"
     ]
    },
    {
     "data": {
      "text/plain": [
       "<matplotlib.collections.PathCollection at 0x1e1eeaccb48>"
      ]
     },
     "execution_count": 199,
     "metadata": {},
     "output_type": "execute_result"
    },
    {
     "data": {
      "image/png": "[encoded data removed]",
      "text/plain": [
       "<Figure size 842.4x595.44 with 1 Axes>"
      ]
     },
     "metadata": {},
     "output_type": "display_data"
    }
   ],
   "source": [
    "colors = ['r', 'g', 'b', 'y', 'c', 'm']\n",
    "fig, ax = plt.subplots()\n",
    "print(\"kmeans clusters' centers : \",centers[0])\n",
    "new_label = [0 if labels[\"cancer\"][i] == \"ALL\" else 1 for i in labels.index]\n",
    "c = 0\n",
    "for i in range(len(labels)) :\n",
    "    if new_label[i] == clusters[i] :\n",
    "        c+=1\n",
    "print(\"acc : \", c/len(labels))\n",
    "\n",
    "for i in range(k):\n",
    "        points = np.array([X[j] for j in range(len(X)) if clusters[j] == i])\n",
    "        ax.scatter(points[:, 0], points[:, 1], s=7, c=colors[i])\n",
    "ax.scatter([centers[0][0],centers[1][0]],[centers[0][1],centers[1][1]], marker='*', s=200, c='#050505')"
   ]
  },
  {
   "cell_type": "markdown",
   "metadata": {
    "colab_type": "text",
    "id": "fZPQjdLdMLmo"
   },
   "source": [
    "This part shows real labels of the samples. just run this cell and answer the next question. "
   ]
  },
  {
   "cell_type": "code",
   "execution_count": 200,
   "metadata": {
    "colab": {},
    "colab_type": "code",
    "id": "Qd6GZwJnMF8n"
   },
   "outputs": [
    {
     "data": {
      "text/plain": [
       "(-20, 25)"
      ]
     },
     "execution_count": 200,
     "metadata": {},
     "output_type": "execute_result"
    },
    {
     "data": {
      "image/png": "[encoded data removed]",
      "text/plain": [
       "<Figure size 720x720 with 1 Axes>"
      ]
     },
     "metadata": {},
     "output_type": "display_data"
    }
   ],
   "source": [
    "fig = plt.figure(figsize=(10,10))\n",
    "ax = fig.add_subplot(1,1,1) \n",
    "ax.set_xlabel('PC1', fontsize=15)\n",
    "ax.set_ylabel('PC2', fontsize=15)\n",
    "ax.set_title('2 component PCA', fontsize=20)\n",
    "targets = ['ALL','AML']\n",
    "colors = ['r', 'g']\n",
    "for target, color in zip(targets,colors):\n",
    "    indicesToKeep = finalDf['cancer'] == target\n",
    "    ax.scatter(finalDf.loc[indicesToKeep, 'PC1'],\n",
    "               finalDf.loc[indicesToKeep, 'PC2'],\n",
    "               c=color,\n",
    "               s=50)\n",
    "ax.legend(targets)\n",
    "ax.grid()\n",
    "ax.set_xlim([-20, 25])\n",
    "ax.set_ylim([-20, 25])"
   ]
  },
  {
   "cell_type": "markdown",
   "metadata": {
    "colab_type": "text",
    "id": "NXv0R4dDNwoa"
   },
   "source": [
    "Compare your results with the figure above and tell us what will change if we change the random seed (try it with two or three different seeds) and what is the solution?"
   ]
  },
  {
   "cell_type": "markdown",
   "metadata": {},
   "source": [
    "در حالتی که سید برابر 1000 هست دقت برابر 77 درصد می شود. وقتی سید را عوض میکنیم مرکزهای رندوم تغییر می کنند و از آن جایی که این الگوریتم به این که با چه مراکزی شروع کنیم حساس است در نتیجه نتایج تغییر می کند اگر شروع رندوم شروع مناسب نباشد. مثلا برای مقدار 100 دقت 56 درصد و برای مقدار 2 دقت 47 درصد است که کاملا کلاسترهای متفاوتی به دست می آیند. برای این که چنین اتفاقی نیفتد میتوانیم چندین بار با شروع های مختلف این الکوریتم را اجرا کرده و در نهاین بهترین حالت یا رای گیری بین مدل ها را انجام دهیم. همچنین راه کارهایی برای انتخاب بهتر مراکز اولیه وجود دارد که میتوانیم از این راهکارها به جای رندوم استفاده کنیم. مثلا یکی از راه ها این است که ابتدا یک مرکز رندوم بگیری بعد مرکز بعدی را گره ای بگیریم که بیشترین فاصله را تا مقدار فعلی دارد "
   ]
  },
  {
   "cell_type": "markdown",
   "metadata": {
    "colab_type": "text",
    "id": "YQN_77qvfrnE"
   },
   "source": [
    "## GMM (30 points)\n",
    "\n",
    "The EM algorithm for GMM can be simplified in the following steps:\n",
    "\n",
    "Assuming K is the number of clusters, and N is the number of data points\n",
    "\n",
    "\n",
    "$z_j^i$ is 1 if $x^i$ is generated from mixture j\n",
    "\n",
    "Initialize $\\mu_k$, $\\Sigma_k$ and $\\pi_k$ k=1,...K\n",
    "\n",
    "\n",
    "$\\theta=[\\pi,\\mu,\\Sigma]$\n",
    "## E step:\n",
    "$\\gamma_j^i=P(z_j^i=1|x^i, \\theta^{old})=\\frac{\\pi_j^{old}\\mathcal{N}(x^i|\\mu_j^{old},\\Sigma_j^{old})}{\\sum_{k=1}^K\\pi_k^{old}\\mathcal{N}(x^i|\\mu_k^{old},\\Sigma_k^{old})}$\n",
    "\n",
    "## M step:\n",
    "$\\mu_j^{new}=\\frac{\\sum_{i=1}^N \\gamma_j^i x^i}{\\sum_{i=1}^N \\gamma_j^i}$\n",
    "\n",
    "\n",
    "$\\Sigma_j^{new} = \\frac{1}{\\sum_{i=1}^N \\gamma_j^i} \\sum_{i=1}^N \\gamma_j^i (x^i-\\mu_j^{new}) (x^i-\\mu_j^{new})^T$\n",
    "\n",
    "\n",
    "$\\pi_j^{new} = \\frac{\\sum_{i=1}^N \\gamma_j^i}{N}$\n",
    "\n",
    "Repeat E and M steps until convergence.\n"
   ]
  },
  {
   "cell_type": "code",
   "execution_count": 201,
   "metadata": {
    "colab": {},
    "colab_type": "code",
    "id": "YdRTYxnefrnG"
   },
   "outputs": [],
   "source": [
    "from scipy.stats import multivariate_normal\n",
    "import random\n",
    "\n",
    "class GMM(object):\n",
    "    def __init__(self, x, k, iterations):\n",
    "        random.seed(100)\n",
    "        self.x = x\n",
    "        self.n = x.shape[0] # data points\n",
    "        self.f = x.shape[1] # features\n",
    "        self.k = k  # number of clusters\n",
    "        self.iterations = iterations\n",
    "        self.predictions = None\n",
    "        # TODO: initialte parameters\n",
    "        self.pi = np.array([1/k for i in range(k)]).reshape(k)  # of size (k)\n",
    "        self.mu = np.array(centers)# of size (k, f)\n",
    "        self.sigma = np.array([ np.identity(self.f) for i in range(k)])  # of size (k, f, f)\n",
    "    \n",
    "    def calc_gamma(self):\n",
    "        # TODO: calculate gamma matrix based on parameters and x\n",
    "        # returns a matrix of shape (n, k) where n is the number of data points\n",
    "        eps = 1e-8\n",
    "        gamma = np.array([multivariate_normal.pdf(x=X, mean=self.mu[i], cov=self.sigma[i], allow_singular=True) for i in range(k)]).T\n",
    "        final_gamma = []\n",
    "        for i in range(self.n) :\n",
    "            sum_of_p = sum([self.pi[m] * gamma[i][m] for m in range(self.k)]) + eps\n",
    "            row = [(self.pi[j] * gamma[i][j]) / sum_of_p for j in range(self.k)]\n",
    "            final_gamma.append(row)\n",
    "        final_gamma = np.array(final_gamma)\n",
    "        return final_gamma\n",
    "        \n",
    "    def update_mu(self, gamma):\n",
    "        # TODO: update self.mu based on x and gamma matrix\n",
    "        for j in range(self.k) :\n",
    "            self.mu[j] = np.dot(gamma.T[:][j] ,X)/sum(gamma.T[:][j])\n",
    "        self.mu = np.array(self.mu)\n",
    "#         print(self.mu)\n",
    "        \n",
    "        \n",
    "    def update_sigma(self, gamma):\n",
    "        # TODO: update self.sigma based on x, mu and gamma matrix\n",
    "        for j in range(self.k) :\n",
    "            self.sigma[j] = np.dot((gamma.T[:][j].reshape(len(X),1) * (X - self.mu[j])).T, (X - self.mu[j])) / sum(gamma.T[:][j])\n",
    "        self.sigma = np.array(self.sigma)\n",
    "        \n",
    "        \n",
    "        \n",
    "    def update_pi(self, gamma):\n",
    "        # TODO: update self.pi based on gamma matrix\n",
    "        self.pi = np.array([sum(gamma.T[:][j]) / self.n for j in range(self.k)]).reshape(self.k)\n",
    "        \n",
    "    def fit(self):\n",
    "        for i in range(self.iterations):\n",
    "            gamma = self.calc_gamma()\n",
    "            self.update_mu(gamma)\n",
    "            self.update_sigma(gamma)\n",
    "            self.update_pi(gamma)\n",
    "        \n",
    "        # TODO: predict the mixture for each data\n",
    "        self.predicitions = np.zeros(self.n)\n",
    "        self.predicitions = [np.argmax(gamma[i]) for i in range(self.n)]\n",
    "        return(self.predicitions)\n",
    "        \n",
    "        "
   ]
  },
  {
   "cell_type": "code",
   "execution_count": 204,
   "metadata": {
    "colab": {},
    "colab_type": "code",
    "id": "qvcfZa_dfrnL"
   },
   "outputs": [
    {
     "name": "stdout",
     "output_type": "stream",
     "text": [
      "GMM acc :  0.7777777777777778\n"
     ]
    }
   ],
   "source": [
    "import matplotlib.pyplot as plt\n",
    "gmm = GMM(X, 2,15)\n",
    "gmm_clusters = gmm.fit()\n",
    "c = 0\n",
    "for i in range(len(labels)) :\n",
    "    if new_label[i] == gmm_clusters[i] :\n",
    "        c+=1\n",
    "acc = c/len(labels)\n",
    "print(\"GMM acc : \",acc)\n",
    "\n",
    "\n"
   ]
  },
  {
   "cell_type": "code",
   "execution_count": 206,
   "metadata": {
    "colab": {},
    "colab_type": "code",
    "id": "iu-8ZKQLfrnQ"
   },
   "outputs": [
    {
     "name": "stdout",
     "output_type": "stream",
     "text": [
      "GMM clusters' centers : \n",
      " [[ 1.42072003 -5.41456678]\n",
      " [-2.39114753  9.02296715]]\n"
     ]
    },
    {
     "data": {
      "text/plain": [
       "<matplotlib.collections.PathCollection at 0x1e1eedc4688>"
      ]
     },
     "execution_count": 206,
     "metadata": {},
     "output_type": "execute_result"
    },
    {
     "data": {
      "image/png": "[encoded data removed]",
      "text/plain": [
       "<Figure size 842.4x595.44 with 1 Axes>"
      ]
     },
     "metadata": {},
     "output_type": "display_data"
    }
   ],
   "source": [
    "fig, ax = plt.subplots()\n",
    "C = gmm.mu\n",
    "print(\"GMM clusters' centers : \\n\",C)\n",
    "for i in range(k):\n",
    "    points = np.array([X[j] for j in range(len(X)) if gmm_clusters[j] == i])\n",
    "    ax.scatter(points[:, 0], points[:, 1], s=7, c=colors[i])\n",
    "ax.scatter(C[:, 0], C[:, 1], marker='*', s=200, c='#050505')"
   ]
  },
  {
   "cell_type": "markdown",
   "metadata": {
    "colab_type": "text",
    "id": "i8m21EhVfrnW"
   },
   "source": [
    "## t-SNE (10 points)"
   ]
  },
  {
   "cell_type": "markdown",
   "metadata": {
    "colab_type": "text",
    "id": "Jb8CAX8cfrnX"
   },
   "source": [
    "In this part we are using a generated dataset to test the effect of t-SNE hyperparameters.\n",
    "The data points are on two paralllel lines with a small additive noise."
   ]
  },
  {
   "cell_type": "code",
   "execution_count": 207,
   "metadata": {
    "colab": {},
    "colab_type": "code",
    "id": "6dBH6AmSfrnY"
   },
   "outputs": [
    {
     "name": "stdout",
     "output_type": "stream",
     "text": [
      "(200, 20)\n",
      "(200,)\n"
     ]
    }
   ],
   "source": [
    "# load the dataset\n",
    "\n",
    "X = np.load('X.npy')\n",
    "y = np.load('y.npy')\n",
    "print(X.shape)\n",
    "print(y.shape)"
   ]
  },
  {
   "cell_type": "code",
   "execution_count": 208,
   "metadata": {
    "colab": {},
    "colab_type": "code",
    "id": "oOzBZkaXfrnd",
    "scrolled": true
   },
   "outputs": [
    {
     "data": {
      "text/plain": [
       "<matplotlib.axes._subplots.AxesSubplot at 0x1e1eedd3fc8>"
      ]
     },
     "execution_count": 208,
     "metadata": {},
     "output_type": "execute_result"
    },
    {
     "data": {
      "image/png": "[encoded data removed]",
      "text/plain": [
       "<Figure size 842.4x595.44 with 1 Axes>"
      ]
     },
     "metadata": {},
     "output_type": "display_data"
    }
   ],
   "source": [
    "# plot data in 2 dimensions using PCA\n",
    "pca = PCA(n_components=2)\n",
    "x_pca = pca.fit_transform(X)\n",
    "sns.scatterplot(x_pca[:,0], x_pca[:,1], hue=y, legend='full', palette=palette)"
   ]
  },
  {
   "cell_type": "markdown",
   "metadata": {
    "colab_type": "text",
    "id": "oNF9FTFYfrni"
   },
   "source": [
    "Find the best hyperparameters such that the output of t-SNE is similar to the output of PCA. Please make sure that your results are stable. Try running t-SNE a few times until you get the same results.\n",
    "\n",
    "You can use [this link](https://distill.pub/2016/misread-tsne/) for help!"
   ]
  },
  {
   "cell_type": "code",
   "execution_count": 209,
   "metadata": {
    "colab": {},
    "colab_type": "code",
    "id": "EoUsJV99frnj"
   },
   "outputs": [
    {
     "data": {
      "text/plain": [
       "<matplotlib.axes._subplots.AxesSubplot at 0x1e1ef4c6248>"
      ]
     },
     "execution_count": 209,
     "metadata": {},
     "output_type": "execute_result"
    },
    {
     "data": {
      "image/png": "[encoded data removed]",
      "text/plain": [
       "<Figure size 842.4x595.44 with 1 Axes>"
      ]
     },
     "metadata": {},
     "output_type": "display_data"
    }
   ],
   "source": [
    "# for i in [1000,2000,3000,4000,5000,6000,7000,8000,9000,10000] :\n",
    "#     for j in [100,200,300,400,500,600,700,800] :\n",
    "#         tsne = TSNE(n_iter = i, perplexity = 30,learning_rate = j, random_state = 7)  # TODO: set hyperparameters\n",
    "#         model = tsne.fit(X)\n",
    "#         print((i, j),model.kl_divergence_)\n",
    "        \n",
    "tsne = TSNE(n_iter = 5000, perplexity =135,learning_rate = 650, random_state = 7)\n",
    "X_embedded = tsne.fit_transform(X)\n",
    "\n",
    "sns.scatterplot(X_embedded[:,0], X_embedded[:,1], hue=y, legend='full', palette=palette)"
   ]
  },
  {
   "cell_type": "markdown",
   "metadata": {
    "colab_type": "text",
    "id": "_YbMHsbafrno"
   },
   "source": [
    "# Are the lines perfectly straight? Can you explain why? "
   ]
  },
  {
   "cell_type": "markdown",
   "metadata": {
    "colab_type": "text",
    "id": "GZ5VxOGcfrnp"
   },
   "source": [
    "--> \n",
    "  این الگوریتم طوری عمل می کند که بخش های چگال تر را در ابعاد جدید بخش تر و گسترده تر کند. از اون جایی که همیشه وسط یک خوشه چگال تر از لبه های اونه در نتیجه بخش میانی در فضای بیشتر پخش می شوند تا لبه های خوشه. و برای این که فضای بیشتر برای چخش بخش های میانی وجود داشته باشد داده ها در فضای دایره طوری پخش می شوند به این صورت نقطه های میانی فضای بیشتری برای پخش و نقطه های لبه کمی به درون خم می شوند.\n",
    "<--"
   ]
  },
  {
   "cell_type": "code",
   "execution_count": null,
   "metadata": {},
   "outputs": [],
   "source": []
  }
 ],
 "metadata": {
  "colab": {
   "collapsed_sections": [],
   "name": "HW4_Practical.ipynb",
   "provenance": [],
   "toc_visible": true
  },
  "kernelspec": {
   "display_name": "Python 3",
   "language": "python",
   "name": "python3"
  },
  "language_info": {
   "codemirror_mode": {
    "name": "ipython",
    "version": 3
   },
   "file_extension": ".py",
   "mimetype": "text/x-python",
   "name": "python",
   "nbconvert_exporter": "python",
   "pygments_lexer": "ipython3",
   "version": "3.7.6"
  }
 },
 "nbformat": 4,
 "nbformat_minor": 1
}
